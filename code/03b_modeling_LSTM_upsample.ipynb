{
 "cells": [
  {
   "cell_type": "markdown",
   "id": "15e8d5f7",
   "metadata": {},
   "source": [
    "# Capstone: Employee Review Monitoring\n",
    "\n",
    "---\n",
    "\n",
    "#### 03b: <b>Modeling - LSTM</b>"
   ]
  },
  {
   "cell_type": "markdown",
   "id": "4b520ae7",
   "metadata": {},
   "source": [
    "## Library and data import"
   ]
  },
  {
   "cell_type": "code",
   "execution_count": 1,
   "id": "a3e8848e",
   "metadata": {},
   "outputs": [],
   "source": [
    "# Load libraries\n",
    "import numpy as np\n",
    "import pandas as pd\n",
    "import regex as re\n",
    "import matplotlib.pyplot as plt\n",
    "import keras.backend as K\n",
    "\n",
    "from keras.preprocessing.text import Tokenizer\n",
    "from keras.preprocessing.sequence import pad_sequences\n",
    "from keras.models import Sequential\n",
    "from keras.layers import Dense, Embedding, LSTM, SpatialDropout1D\n",
    "from sklearn.model_selection import train_test_split\n",
    "from sklearn.utils import resample"
   ]
  },
  {
   "cell_type": "code",
   "execution_count": 2,
   "id": "6589b2b4",
   "metadata": {},
   "outputs": [],
   "source": [
    "# Load data\n",
    "df_modeling = pd.read_csv(\"../data/train_modeling.csv\")"
   ]
  },
  {
   "cell_type": "code",
   "execution_count": 3,
   "id": "87d8591a",
   "metadata": {},
   "outputs": [
    {
     "name": "stdout",
     "output_type": "stream",
     "text": [
      "(30099, 2)\n"
     ]
    },
    {
     "data": {
      "text/html": [
       "<div>\n",
       "<style scoped>\n",
       "    .dataframe tbody tr th:only-of-type {\n",
       "        vertical-align: middle;\n",
       "    }\n",
       "\n",
       "    .dataframe tbody tr th {\n",
       "        vertical-align: top;\n",
       "    }\n",
       "\n",
       "    .dataframe thead th {\n",
       "        text-align: right;\n",
       "    }\n",
       "</style>\n",
       "<table border=\"1\" class=\"dataframe\">\n",
       "  <thead>\n",
       "    <tr style=\"text-align: right;\">\n",
       "      <th></th>\n",
       "      <th>combined_text</th>\n",
       "      <th>v_sentiment</th>\n",
       "    </tr>\n",
       "  </thead>\n",
       "  <tbody>\n",
       "    <tr>\n",
       "      <th>0</th>\n",
       "      <td>Best Company to work for People are smart and ...</td>\n",
       "      <td>1</td>\n",
       "    </tr>\n",
       "    <tr>\n",
       "      <th>1</th>\n",
       "      <td>Moving at the speed of light, burn out is inev...</td>\n",
       "      <td>1</td>\n",
       "    </tr>\n",
       "    <tr>\n",
       "      <th>2</th>\n",
       "      <td>Great balance between big-company security and...</td>\n",
       "      <td>1</td>\n",
       "    </tr>\n",
       "    <tr>\n",
       "      <th>3</th>\n",
       "      <td>The best place I've worked and also the most d...</td>\n",
       "      <td>1</td>\n",
       "    </tr>\n",
       "    <tr>\n",
       "      <th>4</th>\n",
       "      <td>Execellent for engineers Impact driven. Best t...</td>\n",
       "      <td>1</td>\n",
       "    </tr>\n",
       "  </tbody>\n",
       "</table>\n",
       "</div>"
      ],
      "text/plain": [
       "                                       combined_text  v_sentiment\n",
       "0  Best Company to work for People are smart and ...            1\n",
       "1  Moving at the speed of light, burn out is inev...            1\n",
       "2  Great balance between big-company security and...            1\n",
       "3  The best place I've worked and also the most d...            1\n",
       "4  Execellent for engineers Impact driven. Best t...            1"
      ]
     },
     "metadata": {},
     "output_type": "display_data"
    },
    {
     "name": "stdout",
     "output_type": "stream",
     "text": [
      " 1    27294\n",
      "-1     2578\n",
      " 0      227\n",
      "Name: v_sentiment, dtype: int64\n"
     ]
    }
   ],
   "source": [
    "print(df_modeling.shape)\n",
    "display(df_modeling.head())\n",
    "print(df_modeling['v_sentiment'].value_counts())"
   ]
  },
  {
   "cell_type": "code",
   "execution_count": 4,
   "id": "4b07ebd3",
   "metadata": {},
   "outputs": [
    {
     "data": {
      "text/plain": [
       " 1    27294\n",
       "-1     2805\n",
       "Name: v_sentiment, dtype: int64"
      ]
     },
     "execution_count": 4,
     "metadata": {},
     "output_type": "execute_result"
    }
   ],
   "source": [
    "# Change 'Neutral' class to 'Negative'\n",
    "df_modeling['v_sentiment'] = df_modeling['v_sentiment'].replace([0],-1)\n",
    "\n",
    "df_modeling['v_sentiment'].value_counts()"
   ]
  },
  {
   "cell_type": "code",
   "execution_count": 5,
   "id": "c53baaa7",
   "metadata": {},
   "outputs": [
    {
     "data": {
      "text/plain": [
       "1    27294\n",
       "0     2805\n",
       "Name: v_sentiment, dtype: int64"
      ]
     },
     "execution_count": 5,
     "metadata": {},
     "output_type": "execute_result"
    }
   ],
   "source": [
    "# Change 'Negative' to '0' label\n",
    "df_modeling['v_sentiment'] = df_modeling['v_sentiment'].replace([-1],0)\n",
    "\n",
    "df_modeling['v_sentiment'].value_counts()"
   ]
  },
  {
   "cell_type": "markdown",
   "id": "5c6831e3",
   "metadata": {},
   "source": [
    "## Text cleaning\n",
    "\n",
    "- Remove punctuations \n",
    "- Convert to lowercase"
   ]
  },
  {
   "cell_type": "code",
   "execution_count": 6,
   "id": "62f4889a",
   "metadata": {},
   "outputs": [],
   "source": [
    "# Remove punctuations from corpus\n",
    "df_cleaned = df_modeling.replace(to_replace = r'[^\\w\\s]',\n",
    "                                 value = ' ',\n",
    "                                 regex=True)"
   ]
  },
  {
   "cell_type": "code",
   "execution_count": 7,
   "id": "dcfece05",
   "metadata": {},
   "outputs": [],
   "source": [
    "# Strip whitespaces\n",
    "df_cleaned.loc[:,'combined_text'] = df_cleaned.loc[:,'combined_text'].\\\n",
    "                                        str.strip()"
   ]
  },
  {
   "cell_type": "code",
   "execution_count": 8,
   "id": "fd4f0a80",
   "metadata": {},
   "outputs": [],
   "source": [
    "# Convert to lowercase\n",
    "df_cleaned['combined_text'] = df_cleaned['combined_text'].\\\n",
    "                                apply(lambda x: ' '.\\\n",
    "                                    join(x.lower() for x in x.split()))"
   ]
  },
  {
   "cell_type": "code",
   "execution_count": 9,
   "id": "9d5ad64c",
   "metadata": {},
   "outputs": [
    {
     "data": {
      "text/html": [
       "<div>\n",
       "<style scoped>\n",
       "    .dataframe tbody tr th:only-of-type {\n",
       "        vertical-align: middle;\n",
       "    }\n",
       "\n",
       "    .dataframe tbody tr th {\n",
       "        vertical-align: top;\n",
       "    }\n",
       "\n",
       "    .dataframe thead th {\n",
       "        text-align: right;\n",
       "    }\n",
       "</style>\n",
       "<table border=\"1\" class=\"dataframe\">\n",
       "  <thead>\n",
       "    <tr style=\"text-align: right;\">\n",
       "      <th></th>\n",
       "      <th>combined_text</th>\n",
       "      <th>v_sentiment</th>\n",
       "    </tr>\n",
       "  </thead>\n",
       "  <tbody>\n",
       "    <tr>\n",
       "      <th>0</th>\n",
       "      <td>best company to work for people are smart and ...</td>\n",
       "      <td>1</td>\n",
       "    </tr>\n",
       "    <tr>\n",
       "      <th>1</th>\n",
       "      <td>moving at the speed of light burn out is inevi...</td>\n",
       "      <td>1</td>\n",
       "    </tr>\n",
       "    <tr>\n",
       "      <th>2</th>\n",
       "      <td>great balance between big company security and...</td>\n",
       "      <td>1</td>\n",
       "    </tr>\n",
       "    <tr>\n",
       "      <th>3</th>\n",
       "      <td>the best place i ve worked and also the most d...</td>\n",
       "      <td>1</td>\n",
       "    </tr>\n",
       "    <tr>\n",
       "      <th>4</th>\n",
       "      <td>execellent for engineers impact driven best te...</td>\n",
       "      <td>1</td>\n",
       "    </tr>\n",
       "    <tr>\n",
       "      <th>5</th>\n",
       "      <td>review the people are great to work with there...</td>\n",
       "      <td>1</td>\n",
       "    </tr>\n",
       "    <tr>\n",
       "      <th>6</th>\n",
       "      <td>review of google the people are great to work ...</td>\n",
       "      <td>1</td>\n",
       "    </tr>\n",
       "  </tbody>\n",
       "</table>\n",
       "</div>"
      ],
      "text/plain": [
       "                                       combined_text  v_sentiment\n",
       "0  best company to work for people are smart and ...            1\n",
       "1  moving at the speed of light burn out is inevi...            1\n",
       "2  great balance between big company security and...            1\n",
       "3  the best place i ve worked and also the most d...            1\n",
       "4  execellent for engineers impact driven best te...            1\n",
       "5  review the people are great to work with there...            1\n",
       "6  review of google the people are great to work ...            1"
      ]
     },
     "execution_count": 9,
     "metadata": {},
     "output_type": "execute_result"
    }
   ],
   "source": [
    "# Sanity check\n",
    "df_cleaned.head(7)"
   ]
  },
  {
   "cell_type": "code",
   "execution_count": 10,
   "id": "0e527067",
   "metadata": {},
   "outputs": [],
   "source": [
    "# Separate majority and minority classes in training data for up sampling \n",
    "data_majority = df_cleaned[df_cleaned['v_sentiment'] == 1]\n",
    "data_minority = df_cleaned[df_cleaned['v_sentiment'] == 0]"
   ]
  },
  {
   "cell_type": "code",
   "execution_count": 11,
   "id": "2669ce06",
   "metadata": {},
   "outputs": [],
   "source": [
    "# Upsample minority class\n",
    "data_minority_upsampled = resample(data_minority, \n",
    "                                 replace=True,     # sample with replacement\n",
    "                                 n_samples= data_majority.shape[0],    # to match majority class\n",
    "                                 random_state=42) # reproducible results"
   ]
  },
  {
   "cell_type": "code",
   "execution_count": 12,
   "id": "6f9da42a",
   "metadata": {},
   "outputs": [],
   "source": [
    "# Combine majority class with upsampled minority class\n",
    "data_upsampled = pd.concat([data_majority, data_minority_upsampled])"
   ]
  },
  {
   "cell_type": "code",
   "execution_count": 13,
   "id": "fc0e6ff1",
   "metadata": {},
   "outputs": [
    {
     "name": "stdout",
     "output_type": "stream",
     "text": [
      "1    27294\n",
      "0    27294\n",
      "Name: v_sentiment, dtype: int64\n"
     ]
    },
    {
     "data": {
      "text/html": [
       "<div>\n",
       "<style scoped>\n",
       "    .dataframe tbody tr th:only-of-type {\n",
       "        vertical-align: middle;\n",
       "    }\n",
       "\n",
       "    .dataframe tbody tr th {\n",
       "        vertical-align: top;\n",
       "    }\n",
       "\n",
       "    .dataframe thead th {\n",
       "        text-align: right;\n",
       "    }\n",
       "</style>\n",
       "<table border=\"1\" class=\"dataframe\">\n",
       "  <thead>\n",
       "    <tr style=\"text-align: right;\">\n",
       "      <th></th>\n",
       "      <th>combined_text</th>\n",
       "      <th>v_sentiment</th>\n",
       "    </tr>\n",
       "  </thead>\n",
       "  <tbody>\n",
       "    <tr>\n",
       "      <th>0</th>\n",
       "      <td>best company to work for people are smart and ...</td>\n",
       "      <td>1</td>\n",
       "    </tr>\n",
       "    <tr>\n",
       "      <th>1</th>\n",
       "      <td>moving at the speed of light burn out is inevi...</td>\n",
       "      <td>1</td>\n",
       "    </tr>\n",
       "    <tr>\n",
       "      <th>2</th>\n",
       "      <td>great balance between big company security and...</td>\n",
       "      <td>1</td>\n",
       "    </tr>\n",
       "    <tr>\n",
       "      <th>3</th>\n",
       "      <td>the best place i ve worked and also the most d...</td>\n",
       "      <td>1</td>\n",
       "    </tr>\n",
       "    <tr>\n",
       "      <th>4</th>\n",
       "      <td>execellent for engineers impact driven best te...</td>\n",
       "      <td>1</td>\n",
       "    </tr>\n",
       "  </tbody>\n",
       "</table>\n",
       "</div>"
      ],
      "text/plain": [
       "                                       combined_text  v_sentiment\n",
       "0  best company to work for people are smart and ...            1\n",
       "1  moving at the speed of light burn out is inevi...            1\n",
       "2  great balance between big company security and...            1\n",
       "3  the best place i ve worked and also the most d...            1\n",
       "4  execellent for engineers impact driven best te...            1"
      ]
     },
     "execution_count": 13,
     "metadata": {},
     "output_type": "execute_result"
    }
   ],
   "source": [
    "# Sanity check on class distribution\n",
    "print(data_upsampled['v_sentiment'].value_counts())\n",
    "data_upsampled.head()"
   ]
  },
  {
   "cell_type": "code",
   "execution_count": 14,
   "id": "4544ca75",
   "metadata": {},
   "outputs": [],
   "source": [
    "# Define inputs and outputs\n",
    "X = data_upsampled['combined_text']\n",
    "y = np.array(data_upsampled['v_sentiment'])\n",
    "\n",
    "# Train-test-split\n",
    "X_train, X_val, y_train, y_val = train_test_split(X,\n",
    "                                                  y,\n",
    "                                                  stratify=y,\n",
    "                                                  random_state=42)"
   ]
  },
  {
   "cell_type": "code",
   "execution_count": 15,
   "id": "7079366f",
   "metadata": {},
   "outputs": [],
   "source": [
    "# Initiate keras Tokenizer\n",
    "tokenizer = Tokenizer()\n",
    "\n",
    "# Fit tokenizer into train set\n",
    "tokenizer.fit_on_texts(X_train)"
   ]
  },
  {
   "cell_type": "code",
   "execution_count": 16,
   "id": "61567cac",
   "metadata": {},
   "outputs": [
    {
     "name": "stdout",
     "output_type": "stream",
     "text": [
      "2230\n",
      "1378\n"
     ]
    }
   ],
   "source": [
    "# Finding max length of train and validation set\n",
    "max_len_train = max((len(words.split()) for words in X_train))\n",
    "print(max_len_train)\n",
    "max_len_val = max((len(words.split()) for words in X_val))\n",
    "print(max_len_val)"
   ]
  },
  {
   "cell_type": "code",
   "execution_count": 17,
   "id": "b4399c5d",
   "metadata": {},
   "outputs": [
    {
     "data": {
      "text/plain": [
       "23741"
      ]
     },
     "execution_count": 17,
     "metadata": {},
     "output_type": "execute_result"
    }
   ],
   "source": [
    "# Define input dimensionality for embedding layer\n",
    "input_size = len(tokenizer.word_index) +1\n",
    "input_size"
   ]
  },
  {
   "cell_type": "code",
   "execution_count": 18,
   "id": "27d6f63a",
   "metadata": {},
   "outputs": [],
   "source": [
    "# Convert into list of integers representing the index of that word\n",
    "X_train_seq = tokenizer.texts_to_sequences(X_train)\n",
    "X_val_seq = tokenizer.texts_to_sequences(X_val)"
   ]
  },
  {
   "cell_type": "code",
   "execution_count": 19,
   "id": "52afb5cc",
   "metadata": {},
   "outputs": [
    {
     "data": {
      "text/plain": [
       "[60,\n",
       " 7,\n",
       " 12507,\n",
       " 2,\n",
       " 23,\n",
       " 256,\n",
       " 26,\n",
       " 140,\n",
       " 54,\n",
       " 5,\n",
       " 142,\n",
       " 4,\n",
       " 11078,\n",
       " 1,\n",
       " 75,\n",
       " 1,\n",
       " 1186,\n",
       " 138,\n",
       " 182,\n",
       " 267,\n",
       " 12508,\n",
       " 4,\n",
       " 252,\n",
       " 1856,\n",
       " 54,\n",
       " 1215,\n",
       " 39]"
      ]
     },
     "execution_count": 19,
     "metadata": {},
     "output_type": "execute_result"
    }
   ],
   "source": [
    "# display example of converted sequence\n",
    "X_train_seq[0]"
   ]
  },
  {
   "cell_type": "code",
   "execution_count": 20,
   "id": "301a660c",
   "metadata": {},
   "outputs": [],
   "source": [
    "# Pad sequences\n",
    "X_train_seq_padded = pad_sequences(X_train_seq, \n",
    "                                   maxlen=max_len_train,\n",
    "                                   padding = 'post')\n",
    "\n",
    "X_val_seq_padded = pad_sequences(X_val_seq, \n",
    "                                 maxlen=max_len_train,\n",
    "                                 padding = 'post')"
   ]
  },
  {
   "cell_type": "code",
   "execution_count": 21,
   "id": "af7d0d1c",
   "metadata": {},
   "outputs": [
    {
     "name": "stdout",
     "output_type": "stream",
     "text": [
      "[   60     7 12507 ...     0     0     0]\n"
     ]
    },
    {
     "data": {
      "text/plain": [
       "2230"
      ]
     },
     "execution_count": 21,
     "metadata": {},
     "output_type": "execute_result"
    }
   ],
   "source": [
    "# display example of padded sequence\n",
    "print(X_train_seq_padded[0])\n",
    "len(X_train_seq_padded[0])"
   ]
  },
  {
   "cell_type": "markdown",
   "id": "bc018cea",
   "metadata": {},
   "source": [
    "## Build model"
   ]
  },
  {
   "cell_type": "code",
   "execution_count": 22,
   "id": "abef2b85",
   "metadata": {},
   "outputs": [],
   "source": [
    "# functions used in building model\n",
    "# define custom functions to calculate recall and precision\n",
    "def recall_m(y_true, y_pred):\n",
    "        # K.round: Element-wise rounding to the closest integer\n",
    "        # K.clip: Element-wise value clipping to min and max values specified\n",
    "        # K.epsilon: When there's a division operation taking place, it's often added to denominator to prevent\n",
    "            # a divide by zero error. Epsilon is small value that makes very little difference to the value of \n",
    "            # the denominator, but ensures that it isn't equal to exactly zero.\n",
    "        true_positives = K.sum(K.round(K.clip(y_true * y_pred, 0, 1)))\n",
    "        possible_positives = K.sum(K.round(K.clip(y_true, 0, 1)))\n",
    "        recall = true_positives / (possible_positives + K.epsilon())\n",
    "        return recall\n",
    "\n",
    "def precision_m(y_true, y_pred):\n",
    "        true_positives = K.sum(K.round(K.clip(y_true * y_pred, 0, 1)))\n",
    "        predicted_positives = K.sum(K.round(K.clip(y_pred, 0, 1)))\n",
    "        precision = true_positives / (predicted_positives + K.epsilon())\n",
    "        return precision\n",
    "\n",
    "def specificity_m(y_true, y_pred):\n",
    "    true_negatives = K.sum(K.round(K.clip((1 - y_true) * (1 - y_pred), 0, 1)))\n",
    "    possible_negatives = K.sum(K.round(K.clip(1 - y_true, 0, 1)))\n",
    "    return true_negatives / (possible_negatives + K.epsilon())"
   ]
  },
  {
   "cell_type": "code",
   "execution_count": 23,
   "id": "8e0bf9ae",
   "metadata": {},
   "outputs": [
    {
     "name": "stdout",
     "output_type": "stream",
     "text": [
      "Model: \"sequential\"\n",
      "_________________________________________________________________\n",
      " Layer (type)                Output Shape              Param #   \n",
      "=================================================================\n",
      " embedding (Embedding)       (None, 2230, 100)         2374100   \n",
      "                                                                 \n",
      " spatial_dropout1d (SpatialD  (None, 2230, 100)        0         \n",
      " ropout1D)                                                       \n",
      "                                                                 \n",
      " lstm (LSTM)                 (None, 100)               80400     \n",
      "                                                                 \n",
      " dense (Dense)               (None, 100)               10100     \n",
      "                                                                 \n",
      " dense_1 (Dense)             (None, 1)                 101       \n",
      "                                                                 \n",
      "=================================================================\n",
      "Total params: 2,464,701\n",
      "Trainable params: 2,464,701\n",
      "Non-trainable params: 0\n",
      "_________________________________________________________________\n",
      "None\n"
     ]
    }
   ],
   "source": [
    "# Create a RNN mode\n",
    "model = Sequential()\n",
    "\n",
    "# Add embedding layer to create a vector representation\n",
    "model.add(Embedding(input_dim = input_size,\n",
    "                    output_dim = 100,\n",
    "                    input_length = max_len_train))\n",
    "\n",
    "# Add dropout layer\n",
    "# Randomly knocking out units in the network\n",
    "# Network does not rely on any one feature, so have to spread out weights\n",
    "# Similar to L2 regularization in preventing overfitting\n",
    "model.add(SpatialDropout1D(0.4))\n",
    "\n",
    "# Add LSTM layer\n",
    "model.add(LSTM(100, dropout=0.2, recurrent_dropout=0.2))\n",
    "\n",
    "# Add hidden layer\n",
    "model.add(Dense(100, activation = 'relu'))\n",
    "\n",
    "# Add output layer\n",
    "model.add(Dense(1, activation = 'sigmoid'))\n",
    "\n",
    "print(model.summary())"
   ]
  },
  {
   "cell_type": "code",
   "execution_count": 24,
   "id": "ea678ad7",
   "metadata": {},
   "outputs": [],
   "source": [
    "# Compile the model\n",
    "model.compile(optimizer='adam',\n",
    "              loss='binary_crossentropy', # standard option for binary target variables\n",
    "              metrics=['accuracy', precision_m, recall_m, specificity_m]) # metrics to display"
   ]
  },
  {
   "cell_type": "code",
   "execution_count": 25,
   "id": "53dec54d",
   "metadata": {},
   "outputs": [
    {
     "name": "stdout",
     "output_type": "stream",
     "text": [
      "Epoch 1/5\n",
      "320/320 [==============================] - 3503s 11s/step - loss: 0.6934 - accuracy: 0.4994 - precision_m: 0.4495 - recall_m: 0.5259 - specificity_m: 0.4777 - val_loss: 0.6935 - val_accuracy: 0.5000 - val_precision_m: 0.0000e+00 - val_recall_m: 0.0000e+00 - val_specificity_m: 1.0000\n",
      "Epoch 2/5\n",
      "320/320 [==============================] - 3052s 10s/step - loss: 0.6933 - accuracy: 0.5034 - precision_m: 0.3534 - recall_m: 0.4232 - specificity_m: 0.5813 - val_loss: 0.6932 - val_accuracy: 0.5000 - val_precision_m: 0.5000 - val_recall_m: 1.0000 - val_specificity_m: 0.0000e+00\n",
      "Epoch 3/5\n",
      "320/320 [==============================] - 2872s 9s/step - loss: 0.6932 - accuracy: 0.5010 - precision_m: 0.2648 - recall_m: 0.3838 - specificity_m: 0.6142 - val_loss: 0.6932 - val_accuracy: 0.5000 - val_precision_m: 0.5000 - val_recall_m: 1.0000 - val_specificity_m: 0.0000e+00\n",
      "Epoch 4/5\n",
      "320/320 [==============================] - 2766s 9s/step - loss: 0.6932 - accuracy: 0.5010 - precision_m: 0.3853 - recall_m: 0.7251 - specificity_m: 0.2731 - val_loss: 0.6932 - val_accuracy: 0.5000 - val_precision_m: 0.0000e+00 - val_recall_m: 0.0000e+00 - val_specificity_m: 1.0000\n",
      "Epoch 5/5\n",
      "320/320 [==============================] - 2705s 8s/step - loss: 0.6932 - accuracy: 0.4970 - precision_m: 0.3610 - recall_m: 0.4190 - specificity_m: 0.5802 - val_loss: 0.6932 - val_accuracy: 0.5000 - val_precision_m: 0.5000 - val_recall_m: 1.0000 - val_specificity_m: 0.0000e+00\n"
     ]
    }
   ],
   "source": [
    "# Fit the RNN model\n",
    "history = model.fit(X_train_seq_padded, y_train, \n",
    "                    batch_size=128, epochs=5, # batch_size = number of samples per epoch while epoch = number of loops\n",
    "                    validation_data=(X_val_seq_padded, y_val)) # apply model to unseen data i.e. test data"
   ]
  },
  {
   "cell_type": "code",
   "execution_count": 27,
   "id": "6ea1e901",
   "metadata": {},
   "outputs": [
    {
     "data": {
      "image/png": "[encoded data removed]",
      "text/plain": [
       "<Figure size 432x288 with 1 Axes>"
      ]
     },
     "metadata": {
      "needs_background": "light"
     },
     "output_type": "display_data"
    },
    {
     "data": {
      "image/png": "[encoded data removed]",
      "text/plain": [
       "<Figure size 432x288 with 1 Axes>"
      ]
     },
     "metadata": {
      "needs_background": "light"
     },
     "output_type": "display_data"
    },
    {
     "data": {
      "image/png": "[encoded data removed]",
      "text/plain": [
       "<Figure size 432x288 with 1 Axes>"
      ]
     },
     "metadata": {
      "needs_background": "light"
     },
     "output_type": "display_data"
    },
    {
     "data": {
      "image/png": "[encoded data removed]",
      "text/plain": [
       "<Figure size 432x288 with 1 Axes>"
      ]
     },
     "metadata": {
      "needs_background": "light"
     },
     "output_type": "display_data"
    }
   ],
   "source": [
    "# Plot the evaluation metrics by each epoch for the model to see if we are over or underfitting\n",
    "for i in ['accuracy', 'precision_m', 'recall_m','specificity_m']:\n",
    "    acc = history.history[i]\n",
    "    val_acc = history.history['val_{}'.format(i)]\n",
    "    epochs = range(1, len(acc) + 1)\n",
    "\n",
    "    plt.figure()\n",
    "    plt.plot(epochs, acc, label='Training Accuracy')\n",
    "    plt.plot(epochs, val_acc, label='Validation Accuracy')\n",
    "    plt.title('Results for {}'.format(i))\n",
    "    plt.legend()\n",
    "    plt.show()"
   ]
  },
  {
   "cell_type": "code",
   "execution_count": null,
   "id": "3ffbebd7",
   "metadata": {},
   "outputs": [],
   "source": []
  }
 ],
 "metadata": {
  "kernelspec": {
   "display_name": "Python 3",
   "language": "python",
   "name": "python3"
  },
  "language_info": {
   "codemirror_mode": {
    "name": "ipython",
    "version": 3
   },
   "file_extension": ".py",
   "mimetype": "text/x-python",
   "name": "python",
   "nbconvert_exporter": "python",
   "pygments_lexer": "ipython3",
   "version": "3.8.8"
  }
 },
 "nbformat": 4,
 "nbformat_minor": 5
}
