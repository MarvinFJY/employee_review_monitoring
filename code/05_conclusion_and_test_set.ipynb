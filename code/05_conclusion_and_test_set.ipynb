{
 "cells": [
  {
   "cell_type": "markdown",
   "id": "269c5a24",
   "metadata": {},
   "source": [
    "# Capstone: Employee Review Monitoring\n",
    "\n",
    "---\n",
    "\n",
    "#### 05: <b>Conclusion and Test set</b>"
   ]
  },
  {
   "cell_type": "markdown",
   "id": "3ab9c2e3",
   "metadata": {},
   "source": [
    "### Evaluation of models\n",
    "\n",
    "\n",
    "Machine Learning model results:\n",
    "\n",
    "![alt](../assets/ml_results.png)\n",
    "\n",
    "RNN-LSTM model results:\n",
    "\n",
    "<img src=\"../assets/dl_results.png\" width=\"500\" height=\"100\">\n",
    "\n",
    "\n",
    "Looking at the results above, Logistic Regression model with TFIDF-Vectorizer had performed the best overall. Hence, we will be choosing it as our production model for predicting sentiment of reviews from employees."
   ]
  },
  {
   "cell_type": "markdown",
   "id": "e1d91263",
   "metadata": {},
   "source": [
    "### Recommendations for further improvement\n",
    "\n",
    "Areas for improvement:\n",
    "- Try other estimators like KNN, XGBoost and RandomForest as well as other text normalization techniques such as Snowball or Lancaster Stemming.\n",
    "- Further fine-tuning of RNN-LSTM model to improve training and validation scores.\n",
    "- Try other deep learning models such as HuggingFace-BERT model using PyTorch.\n",
    "- Using other pre-trained models from HuggingFace to predict sentiments of non-english reviews such as German and French.\n",
    "- Deployment of models into an app that could upload quarterly reviews in csv format and gives an output to visualize the results for stakeholders."
   ]
  },
  {
   "cell_type": "markdown",
   "id": "4adba117",
   "metadata": {},
   "source": [
    "## Test set"
   ]
  },
  {
   "cell_type": "code",
   "execution_count": 1,
   "id": "cde8dc38",
   "metadata": {},
   "outputs": [],
   "source": [
    "# Import libraries\n",
    "import pickle\n",
    "import pandas as pd\n",
    "import numpy as np\n",
    "import matplotlib.pyplot as plt\n",
    "\n",
    "from nltk.stem.wordnet import WordNetLemmatizer\n",
    "from nltk.tokenize import WhitespaceTokenizer\n",
    "from sklearn.feature_extraction.text import TfidfVectorizer\n",
    "from sklearn.decomposition import LatentDirichletAllocation"
   ]
  },
  {
   "cell_type": "code",
   "execution_count": 2,
   "id": "39017d75",
   "metadata": {},
   "outputs": [],
   "source": [
    "# Load the trained model\n",
    "pickle_in = open('lr_tfidf.pkl', 'rb')\n",
    "classifier = pickle.load(pickle_in)"
   ]
  },
  {
   "cell_type": "code",
   "execution_count": 3,
   "id": "6cd0f92c",
   "metadata": {},
   "outputs": [],
   "source": [
    "# Load test set\n",
    "testset = pd.read_csv('../data/test.csv')"
   ]
  },
  {
   "cell_type": "code",
   "execution_count": 4,
   "id": "8853747c",
   "metadata": {},
   "outputs": [
    {
     "data": {
      "text/html": [
       "<div>\n",
       "<style scoped>\n",
       "    .dataframe tbody tr th:only-of-type {\n",
       "        vertical-align: middle;\n",
       "    }\n",
       "\n",
       "    .dataframe tbody tr th {\n",
       "        vertical-align: top;\n",
       "    }\n",
       "\n",
       "    .dataframe thead th {\n",
       "        text-align: right;\n",
       "    }\n",
       "</style>\n",
       "<table border=\"1\" class=\"dataframe\">\n",
       "  <thead>\n",
       "    <tr style=\"text-align: right;\">\n",
       "      <th></th>\n",
       "      <th>ID</th>\n",
       "      <th>Place</th>\n",
       "      <th>location</th>\n",
       "      <th>date</th>\n",
       "      <th>status</th>\n",
       "      <th>job_title</th>\n",
       "      <th>summary</th>\n",
       "      <th>positives</th>\n",
       "      <th>negatives</th>\n",
       "      <th>advice_to_mgmt</th>\n",
       "      <th>score_1</th>\n",
       "      <th>score_2</th>\n",
       "      <th>score_3</th>\n",
       "      <th>score_4</th>\n",
       "      <th>score_5</th>\n",
       "      <th>score_6</th>\n",
       "    </tr>\n",
       "  </thead>\n",
       "  <tbody>\n",
       "    <tr>\n",
       "      <th>0</th>\n",
       "      <td>5</td>\n",
       "      <td>startup_1</td>\n",
       "      <td>Los Angeles, CA</td>\n",
       "      <td>Jul 19, 2018</td>\n",
       "      <td>Former Employee</td>\n",
       "      <td>Software Engineer</td>\n",
       "      <td>Unique, one of a kind dream job</td>\n",
       "      <td>Google is a world of its own. At every other c...</td>\n",
       "      <td>If you don't work in MTV (HQ), you will be giv...</td>\n",
       "      <td>Promote managers into management for their man...</td>\n",
       "      <td>5</td>\n",
       "      <td>5</td>\n",
       "      <td>5</td>\n",
       "      <td>5</td>\n",
       "      <td>5</td>\n",
       "      <td>49</td>\n",
       "    </tr>\n",
       "    <tr>\n",
       "      <th>1</th>\n",
       "      <td>6</td>\n",
       "      <td>startup_1</td>\n",
       "      <td>Mountain View, CA</td>\n",
       "      <td>Dec 9, 2018</td>\n",
       "      <td>Former Employee</td>\n",
       "      <td>SDE2</td>\n",
       "      <td>NICE working in GOOGLE as an INTERN</td>\n",
       "      <td>People are not that busy, so they are nice to ...</td>\n",
       "      <td>Food is not good as I expected. People said it...</td>\n",
       "      <td>NaN</td>\n",
       "      <td>4</td>\n",
       "      <td>4</td>\n",
       "      <td>4</td>\n",
       "      <td>5</td>\n",
       "      <td>4</td>\n",
       "      <td>1</td>\n",
       "    </tr>\n",
       "    <tr>\n",
       "      <th>2</th>\n",
       "      <td>7</td>\n",
       "      <td>startup_1</td>\n",
       "      <td>New York, NY</td>\n",
       "      <td>Dec 11, 2018</td>\n",
       "      <td>Current Employee</td>\n",
       "      <td>Software Engineer</td>\n",
       "      <td>Software engineer</td>\n",
       "      <td>Great working environment. Good work life balance</td>\n",
       "      <td>Usual big company problems. Hierarchy.</td>\n",
       "      <td>NaN</td>\n",
       "      <td>5</td>\n",
       "      <td>4</td>\n",
       "      <td>4</td>\n",
       "      <td>5</td>\n",
       "      <td>4</td>\n",
       "      <td>0</td>\n",
       "    </tr>\n",
       "    <tr>\n",
       "      <th>3</th>\n",
       "      <td>8</td>\n",
       "      <td>startup_1</td>\n",
       "      <td>NaN</td>\n",
       "      <td>Dec 11, 2018</td>\n",
       "      <td>Former Employee</td>\n",
       "      <td>Anonymous Employee</td>\n",
       "      <td>great place to work and progress</td>\n",
       "      <td>work culture, benefits, growth, people,</td>\n",
       "      <td>No cons that i can think of</td>\n",
       "      <td>NaN</td>\n",
       "      <td>5</td>\n",
       "      <td>5</td>\n",
       "      <td>5</td>\n",
       "      <td>5</td>\n",
       "      <td>5</td>\n",
       "      <td>0</td>\n",
       "    </tr>\n",
       "    <tr>\n",
       "      <th>4</th>\n",
       "      <td>9</td>\n",
       "      <td>startup_1</td>\n",
       "      <td>New York, NY</td>\n",
       "      <td>Dec 10, 2018</td>\n",
       "      <td>Current Employee</td>\n",
       "      <td>Anonymous Employee</td>\n",
       "      <td>Google Surpasses Realistic Expectations</td>\n",
       "      <td>Great products. Vision you can feel good about...</td>\n",
       "      <td>Younger employees complaining about the compan...</td>\n",
       "      <td>NaN</td>\n",
       "      <td>5</td>\n",
       "      <td>5</td>\n",
       "      <td>5</td>\n",
       "      <td>5</td>\n",
       "      <td>5</td>\n",
       "      <td>0</td>\n",
       "    </tr>\n",
       "  </tbody>\n",
       "</table>\n",
       "</div>"
      ],
      "text/plain": [
       "   ID      Place           location           date             status  \\\n",
       "0   5  startup_1    Los Angeles, CA   Jul 19, 2018   Former Employee    \n",
       "1   6  startup_1  Mountain View, CA    Dec 9, 2018   Former Employee    \n",
       "2   7  startup_1       New York, NY   Dec 11, 2018  Current Employee    \n",
       "3   8  startup_1                NaN   Dec 11, 2018   Former Employee    \n",
       "4   9  startup_1       New York, NY   Dec 10, 2018  Current Employee    \n",
       "\n",
       "             job_title                                  summary  \\\n",
       "0    Software Engineer          Unique, one of a kind dream job   \n",
       "1                 SDE2      NICE working in GOOGLE as an INTERN   \n",
       "2    Software Engineer                        Software engineer   \n",
       "3   Anonymous Employee         great place to work and progress   \n",
       "4   Anonymous Employee  Google Surpasses Realistic Expectations   \n",
       "\n",
       "                                           positives  \\\n",
       "0  Google is a world of its own. At every other c...   \n",
       "1  People are not that busy, so they are nice to ...   \n",
       "2  Great working environment. Good work life balance   \n",
       "3            work culture, benefits, growth, people,   \n",
       "4  Great products. Vision you can feel good about...   \n",
       "\n",
       "                                           negatives  \\\n",
       "0  If you don't work in MTV (HQ), you will be giv...   \n",
       "1  Food is not good as I expected. People said it...   \n",
       "2             Usual big company problems. Hierarchy.   \n",
       "3                        No cons that i can think of   \n",
       "4  Younger employees complaining about the compan...   \n",
       "\n",
       "                                      advice_to_mgmt  score_1  score_2  \\\n",
       "0  Promote managers into management for their man...        5        5   \n",
       "1                                                NaN        4        4   \n",
       "2                                                NaN        5        4   \n",
       "3                                                NaN        5        5   \n",
       "4                                                NaN        5        5   \n",
       "\n",
       "   score_3  score_4  score_5  score_6  \n",
       "0        5        5        5       49  \n",
       "1        4        5        4        1  \n",
       "2        4        5        4        0  \n",
       "3        5        5        5        0  \n",
       "4        5        5        5        0  "
      ]
     },
     "execution_count": 4,
     "metadata": {},
     "output_type": "execute_result"
    }
   ],
   "source": [
    "testset.head()"
   ]
  },
  {
   "cell_type": "code",
   "execution_count": 5,
   "id": "fe9d2045",
   "metadata": {},
   "outputs": [],
   "source": [
    "# Cleaning and preprocessing function\n",
    "def preprocessing(df):\n",
    "    # Replace NaN values with ''\n",
    "    df['summary'].fillna('', inplace = True)\n",
    "    df['advice_to_mgmt'].fillna('', inplace = True)\n",
    "    df['negatives'].fillna('', inplace = True)\n",
    "    # Combine text columns related to reviews\n",
    "    df['combined_text'] = df['summary'] + ' '\\\n",
    "                            + df['positives'] + ' '\\\n",
    "                            + df['negatives'] + ' '\\\n",
    "                            + df['advice_to_mgmt'] + ' '\n",
    "    # Drop columns that were combined\n",
    "    df.drop(columns = ['summary',\n",
    "                       'positives',\n",
    "                       'advice_to_mgmt'],axis = 1,inplace = True)\n",
    "    # Drop Glassdoor review scores as we will not be relying on them\n",
    "    # Drop ID\n",
    "    df = df.select_dtypes(include =[object])\n",
    "    # Instantiate tokernizer and lemmatizer\n",
    "    w_tokenizer = WhitespaceTokenizer()\n",
    "    lemmatizer = WordNetLemmatizer()\n",
    "\n",
    "    # Function to lemmatize words in dataframe\n",
    "    def lemma_text(text):\n",
    "        return [lemmatizer.lemmatize(w) for w in w_tokenizer.tokenize(text)]\n",
    "\n",
    "    df['combined_text_lemma'] = df['combined_text'].\\\n",
    "                                    apply(lemma_text)\n",
    "\n",
    "    # Join all words with one spacing\n",
    "    df['combined_text_lemma'] = df['combined_text_lemma'].\\\n",
    "                                    apply(lambda x: ' '.join(x))\n",
    "\n",
    "    # Organize dataframe\n",
    "    df.drop('combined_text',axis=1,inplace = True)\n",
    "    \n",
    "    return df"
   ]
  },
  {
   "cell_type": "code",
   "execution_count": 6,
   "id": "395bedd3",
   "metadata": {},
   "outputs": [
    {
     "name": "stderr",
     "output_type": "stream",
     "text": [
      "<ipython-input-5-c10c36bc405a>:27: SettingWithCopyWarning: \n",
      "A value is trying to be set on a copy of a slice from a DataFrame.\n",
      "Try using .loc[row_indexer,col_indexer] = value instead\n",
      "\n",
      "See the caveats in the documentation: https://pandas.pydata.org/pandas-docs/stable/user_guide/indexing.html#returning-a-view-versus-a-copy\n",
      "  df['combined_text_lemma'] = df['combined_text'].\\\n",
      "<ipython-input-5-c10c36bc405a>:31: SettingWithCopyWarning: \n",
      "A value is trying to be set on a copy of a slice from a DataFrame.\n",
      "Try using .loc[row_indexer,col_indexer] = value instead\n",
      "\n",
      "See the caveats in the documentation: https://pandas.pydata.org/pandas-docs/stable/user_guide/indexing.html#returning-a-view-versus-a-copy\n",
      "  df['combined_text_lemma'] = df['combined_text_lemma'].\\\n",
      "/Users/JunnYiow/opt/anaconda3/lib/python3.8/site-packages/pandas/core/frame.py:4906: SettingWithCopyWarning: \n",
      "A value is trying to be set on a copy of a slice from a DataFrame\n",
      "\n",
      "See the caveats in the documentation: https://pandas.pydata.org/pandas-docs/stable/user_guide/indexing.html#returning-a-view-versus-a-copy\n",
      "  return super().drop(\n"
     ]
    }
   ],
   "source": [
    "test = preprocessing(testset)"
   ]
  },
  {
   "cell_type": "code",
   "execution_count": 7,
   "id": "426e548a",
   "metadata": {},
   "outputs": [],
   "source": [
    "prediction = classifier.predict(test['combined_text_lemma'])"
   ]
  },
  {
   "cell_type": "code",
   "execution_count": 8,
   "id": "6723596c",
   "metadata": {},
   "outputs": [
    {
     "data": {
      "text/plain": [
       "Counter({1: 24619, 0: 4653})"
      ]
     },
     "execution_count": 8,
     "metadata": {},
     "output_type": "execute_result"
    }
   ],
   "source": [
    "import collections\n",
    "collections.Counter(prediction)"
   ]
  },
  {
   "cell_type": "code",
   "execution_count": 9,
   "id": "f1ae391f",
   "metadata": {},
   "outputs": [
    {
     "name": "stderr",
     "output_type": "stream",
     "text": [
      "<ipython-input-9-6fd6aaf7dc26>:1: SettingWithCopyWarning: \n",
      "A value is trying to be set on a copy of a slice from a DataFrame.\n",
      "Try using .loc[row_indexer,col_indexer] = value instead\n",
      "\n",
      "See the caveats in the documentation: https://pandas.pydata.org/pandas-docs/stable/user_guide/indexing.html#returning-a-view-versus-a-copy\n",
      "  test['sentiments'] = prediction\n"
     ]
    }
   ],
   "source": [
    "test['sentiments'] = prediction"
   ]
  },
  {
   "cell_type": "code",
   "execution_count": 10,
   "id": "3a309081",
   "metadata": {},
   "outputs": [
    {
     "data": {
      "image/png": "[encoded data removed]",
      "text/plain": [
       "<Figure size 432x288 with 1 Axes>"
      ]
     },
     "metadata": {
      "needs_background": "light"
     },
     "output_type": "display_data"
    }
   ],
   "source": [
    "plt.hist(prediction)\n",
    "plt.xticks(np.arange(2))\n",
    "plt.show()"
   ]
  },
  {
   "cell_type": "code",
   "execution_count": 11,
   "id": "b2ab1868",
   "metadata": {},
   "outputs": [],
   "source": [
    "# Load the trained LDA model\n",
    "pickle_in_lda = open('lda_model.pkl', 'rb')\n",
    "best_lda_model = pickle.load(pickle_in_lda)"
   ]
  },
  {
   "cell_type": "code",
   "execution_count": 12,
   "id": "53373c48",
   "metadata": {},
   "outputs": [],
   "source": [
    "import pyLDAvis\n",
    "import pyLDAvis.sklearn\n",
    "pyLDAvis.enable_notebook()"
   ]
  },
  {
   "cell_type": "code",
   "execution_count": 13,
   "id": "c3726194",
   "metadata": {},
   "outputs": [
    {
     "name": "stderr",
     "output_type": "stream",
     "text": [
      "/Users/JunnYiow/opt/anaconda3/lib/python3.8/site-packages/ipykernel/ipkernel.py:287: DeprecationWarning: `should_run_async` will not call `transform_cell` automatically in the future. Please pass the result to `transformed_cell` argument and any exception that happen during thetransform in `preprocessing_exc_tuple` in IPython 7.17 and above.\n",
      "  and should_run_async(code)\n",
      "/Users/JunnYiow/opt/anaconda3/lib/python3.8/site-packages/sklearn/utils/deprecation.py:87: FutureWarning: Function get_feature_names is deprecated; get_feature_names is deprecated in 1.0 and will be removed in 1.2. Please use get_feature_names_out instead.\n",
      "  warnings.warn(msg, category=FutureWarning)\n",
      "/Users/JunnYiow/opt/anaconda3/lib/python3.8/site-packages/pyLDAvis/_prepare.py:246: FutureWarning: In a future version of pandas all arguments of DataFrame.drop except for the argument 'labels' will be keyword-only\n",
      "  default_term_info = default_term_info.sort_values(\n"
     ]
    },
    {
     "data": {
      "text/html": [
       "\n",
       "<link rel=\"stylesheet\" type=\"text/css\" href=\"https://cdn.jsdelivr.net/gh/bmabey/pyLDAvis@3.3.1/pyLDAvis/js/ldavis.v1.0.0.css\">\n",
       "\n",
       "\n",
       "<div id=\"ldavis_el1260749717873128594926585\"></div>\n",
       "<script type=\"text/javascript\">\n",
       "\n",
       "var ldavis_el1260749717873128594926585_data = {\"mdsDat\": {\"x\": [-0.08058981761614763, 0.047116708574671706, 0.22784689565845792, -0.07827412483518319, -0.11609966178179856], \"y\": [0.04613025160652986, -0.03458481571201207, -0.007852592951888523, 0.17732999709535702, -0.1810228400379863], \"topics\": [1, 2, 3, 4, 5], \"cluster\": [1, 1, 1, 1, 1], \"Freq\": [30.833006855247962, 30.09738028264575, 14.205725858874215, 13.149333560083942, 11.714553443148109]}, \"tinfo\": {\"Term\": [\"cons\", \"life\", \"balance\", \"work\", \"think\", \"hours\", \"company\", \"slow\", \"pressure\", \"salary\", \"growth\", \"pay\", \"long\", \"low\", \"really\", \"big\", \"stressful\", \"far\", \"high\", \"politics\", \"great\", \"working\", \"say\", \"don\", \"hard\", \"place\", \"times\", \"opportunities\", \"benefits\", \"career\", \"ranking\", \"stack\", \"view\", \"model\", \"remote\", \"design\", \"curve\", \"mountain\", \"adapt\", \"bias\", \"cloud\", \"divisions\", \"layoffs\", \"silos\", \"grown\", \"rotational\", \"unnecessary\", \"innovate\", \"features\", \"edge\", \"redmond\", \"influence\", \"mgmt\", \"organizational\", \"effective\", \"networking\", \"accountability\", \"rank\", \"marketing\", \"subjective\", \"share\", \"division\", \"evaluation\", \"results\", \"decisions\", \"layers\", \"engineering\", \"diversity\", \"senior\", \"review\", \"direction\", \"individual\", \"vision\", \"focus\", \"leadership\", \"microsoft\", \"rating\", \"product\", \"skills\", \"groups\", \"business\", \"talent\", \"growing\", \"driven\", \"levels\", \"teams\", \"political\", \"managers\", \"projects\", \"team\", \"culture\", \"roles\", \"new\", \"manager\", \"management\", \"performance\", \"people\", \"lack\", \"company\", \"career\", \"politics\", \"process\", \"role\", \"level\", \"internal\", \"development\", \"employees\", \"lot\", \"good\", \"need\", \"lots\", \"work\", \"hard\", \"big\", \"time\", \"breaks\", \"hour\", \"feet\", \"standing\", \"break\", \"lunch\", \"walking\", \"physical\", \"minute\", \"weeks\", \"rates\", \"labor\", \"parking\", \"minutes\", \"body\", \"walk\", \"hot\", \"safety\", \"sick\", \"production\", \"slave\", \"hrs\", \"tiring\", \"warehouse\", \"fulfillment\", \"fired\", \"christmas\", \"written\", \"took\", \"quit\", \"physically\", \"notice\", \"short\", \"day\", \"door\", \"days\", \"associates\", \"week\", \"numbers\", \"told\", \"rate\", \"care\", \"time\", \"shift\", \"months\", \"hours\", \"year\", \"job\", \"like\", \"employees\", \"don\", \"long\", \"just\", \"work\", \"people\", \"amazon\", \"management\", \"working\", \"managers\", \"want\", \"shifts\", \"customers\", \"pay\", \"make\", \"hard\", \"lot\", \"apple\", \"company\", \"hectic\", \"load\", \"timings\", \"sehr\", \"worklife\", \"balance\", \"und\", \"oncall\", \"manageable\", \"duty\", \"ist\", \"nicht\", \"keine\", \"launches\", \"fur\", \"der\", \"pressure\", \"life\", \"stretched\", \"arbeit\", \"pushy\", \"deadlines\", \"workaholic\", \"wird\", \"viel\", \"active\", \"corporation\", \"auf\", \"mitarbeiter\", \"paced\", \"stressful\", \"weekends\", \"workload\", \"tight\", \"cog\", \"intense\", \"stress\", \"monotonous\", \"work\", \"busy\", \"hours\", \"flexible\", \"food\", \"maintain\", \"high\", \"holidays\", \"long\", \"demanding\", \"times\", \"fast\", \"schedule\", \"retail\", \"challenge\", \"tough\", \"environment\", \"bad\", \"poor\", \"shifts\", \"customers\", \"hard\", \"working\", \"time\", \"good\", \"lot\", \"management\", \"difficult\", \"pas\", \"hike\", \"interns\", \"salaries\", \"distance\", \"les\", \"unstable\", \"travail\", \"carrier\", \"inter\", \"advancing\", \"est\", \"starter\", \"reorganization\", \"tres\", \"san\", \"beaucoup\", \"transformation\", \"communications\", \"outsourcing\", \"des\", \"ftes\", \"cumbersome\", \"graveyard\", \"comparatively\", \"insufficient\", \"pression\", \"remuneration\", \"francisco\", \"shine\", \"salary\", \"compared\", \"rigid\", \"compare\", \"slow\", \"difficulty\", \"low\", \"managerial\", \"growth\", \"par\", \"till\", \"benefits\", \"slower\", \"pay\", \"competition\", \"compensation\", \"bureaucratic\", \"room\", \"boring\", \"opportunities\", \"limited\", \"bit\", \"companies\", \"lower\", \"politics\", \"changes\", \"frequent\", \"better\", \"progression\", \"promotion\", \"career\", \"processes\", \"internal\", \"bureaucracy\", \"grow\", \"advancement\", \"market\", \"needs\", \"process\", \"difficult\", \"big\", \"little\", \"company\", \"lack\", \"management\", \"level\", \"lot\", \"work\", \"cons\", \"downsides\", \"bay\", \"enjoyed\", \"vertical\", \"think\", \"fish\", \"pond\", \"downside\", \"cupertino\", \"moment\", \"intimidating\", \"wlb\", \"awesome\", \"cooks\", \"inspiring\", \"kitchen\", \"applicable\", \"balanced\", \"traveling\", \"pour\", \"beat\", \"mold\", \"diluted\", \"cliquey\", \"weather\", \"limitations\", \"citizens\", \"landscape\", \"recognised\", \"pros\", \"greatest\", \"tape\", \"far\", \"usual\", \"red\", \"typical\", \"friendly\", \"perfect\", \"say\", \"major\", \"amazing\", \"love\", \"dont\", \"challenges\", \"really\", \"great\", \"negative\", \"smart\", \"place\", \"company\", \"google\", \"big\", \"best\", \"don\", \"working\", \"hard\", \"know\", \"good\", \"feel\", \"like\", \"people\", \"amazon\", \"work\", \"large\", \"apple\", \"competitive\", \"experience\", \"bad\", \"time\", \"things\", \"job\"], \"Freq\": [519.0, 641.0, 593.0, 1330.0, 386.0, 595.0, 689.0, 235.0, 209.0, 212.0, 288.0, 329.0, 476.0, 211.0, 332.0, 290.0, 161.0, 142.0, 299.0, 330.0, 290.0, 393.0, 168.0, 345.0, 492.0, 229.0, 278.0, 186.0, 158.0, 249.0, 45.09801917422558, 55.434073293160324, 33.0486589994992, 31.869860139264986, 24.565079414387714, 23.28378793504387, 33.4641560753872, 17.805798417901475, 17.60969847121028, 17.715492776885377, 16.90266364019407, 16.623675291005753, 16.401380303878906, 15.526805384656665, 18.73438387505984, 16.388754714468412, 17.095258333549403, 14.003712666054467, 13.978570114324452, 13.99485626282403, 39.30477748762229, 13.487488923125573, 13.45213299828158, 17.957419752249233, 12.752495395089367, 12.328438898021236, 17.048668055816325, 12.260067189670183, 23.46485267733912, 12.196250403890758, 33.70111868430304, 17.434700630871262, 20.57873432650941, 41.05741200078636, 61.01641765581833, 30.580483220456138, 43.65699782669609, 28.47073232507187, 82.33701909213545, 116.48727410346376, 46.26525031385894, 44.645776078938034, 37.34670352243631, 82.48411829268791, 124.15891898875677, 101.9349941106077, 28.0074391024488, 69.92793497705787, 56.356806342572206, 48.163398498525645, 83.78435269226034, 38.95403317600746, 46.40828596203853, 53.131593074488336, 48.415777407011575, 141.00536441358759, 93.76922937380512, 171.1515380512436, 78.29147578877719, 159.94821827398795, 148.87775481560894, 56.868495997944756, 111.36318831679955, 114.28288202574531, 237.07845567268777, 79.8219683978088, 207.98951431467174, 112.20015812744151, 240.20328103374163, 117.85760698421336, 139.36254307657921, 99.2405073926962, 69.26873590023776, 95.33260146532443, 82.25966102490277, 70.03066787750787, 107.90126666036306, 114.16429002004908, 113.68339990887702, 94.00815551165195, 90.39745915491996, 138.52306005313835, 95.20462182965073, 87.5941252034977, 84.61705082146902, 97.99479841026123, 93.66928881080118, 65.5821631362432, 58.94354335029535, 72.19680925484259, 53.94084031431801, 46.05998794456017, 36.25597611637835, 35.830885709421516, 44.444496099783386, 34.396605636308344, 33.81967918603881, 32.3710847994746, 31.446774944947737, 31.103262344502117, 30.200824016230268, 28.948792005875884, 24.374250212687482, 22.01199547527683, 21.26689890342527, 20.1154573311306, 19.9571126739618, 30.058423815574468, 51.68062120499727, 18.780038314180505, 44.000024577781495, 17.983968782544274, 17.523512969679956, 18.87019697788307, 20.72315440793297, 42.7770275440575, 23.095816168915707, 86.92926495474285, 174.326562022441, 24.675256018143024, 122.93903768233395, 52.358059763878444, 85.08217149382754, 49.837417788922345, 36.618057553840366, 79.31914449179882, 75.73106400388563, 251.71504282068878, 92.53972555766381, 59.39891064411864, 231.69384699761332, 80.10535953692818, 161.73297290397133, 156.0294717596598, 148.14995379239696, 145.3796357042747, 172.341700721337, 109.18110010586912, 265.99092915383056, 156.04643102559197, 103.88115159176505, 163.71496790719775, 124.2324529651936, 108.25906590878749, 79.5886782271632, 77.21432676758923, 85.49159152609603, 103.06175059276352, 87.95424094752502, 111.62746039586648, 87.77043819561072, 77.75471425643079, 80.58485262640808, 72.08055953018375, 81.92210258502705, 34.24696157151032, 14.233385209864496, 14.056286723500058, 559.3149922696164, 12.576030951858055, 39.84066896645313, 12.021946023696968, 11.88211876438543, 9.417526612966983, 8.647453458845359, 8.557902884205681, 13.530365473603817, 7.739730404239487, 7.620812514837191, 189.00443685164834, 578.062639361328, 6.99738530834426, 6.867161982366053, 6.665250237765606, 36.92303271491781, 6.620185206026204, 6.244177095045349, 6.213359145326935, 6.516218338283377, 29.303905481579886, 5.876121046720065, 5.849172383445274, 71.63273548736315, 130.60109213666357, 75.52277802301116, 69.64076867957304, 22.740958221669157, 15.74767651632142, 37.2048027844794, 78.48693772518722, 37.672284464019846, 730.3940266659358, 81.536916058093, 332.6640990200928, 47.5246459611095, 68.8537661215137, 31.083444037225547, 156.359710584227, 57.584497744578194, 213.5086062262769, 66.88354663922948, 128.46712777385716, 89.77777616339911, 70.70204502066977, 113.87079789949189, 41.84685492915552, 62.40790836106237, 101.03640558419865, 109.88376062012007, 83.61246280673578, 66.37089669734715, 74.44739443256407, 109.13977635602808, 93.59173386963528, 103.50049743921397, 90.45702047478387, 89.05374093447072, 99.58298695091766, 72.68205630083173, 20.14248595241625, 19.915782855947555, 19.32199279159209, 41.908657373706745, 11.320133634770242, 10.87546627552452, 12.126467829304763, 10.158232177366306, 10.01856593661418, 9.874789474915895, 9.807879356787108, 8.750978943333418, 8.83179459580281, 7.94973928688919, 7.671615483580585, 7.524120124948976, 7.428549683899997, 7.185826018821955, 8.323627975385522, 7.126570903061836, 7.017658981720358, 7.029459503145724, 7.845974530549202, 6.802015006082028, 6.274218871100172, 6.305827781379855, 6.1138083165306325, 6.1113911384904585, 6.0862253495929215, 7.7814797470426, 182.7401053606003, 77.70480764550948, 18.360775498830204, 16.746745753090792, 184.42709588922764, 14.05304288426468, 152.20601325819868, 14.562187355405444, 183.2520047058986, 17.46931036307518, 23.67503043036184, 96.23598939814127, 18.563442516762706, 175.53289790619203, 65.67245673228378, 72.98646131407808, 44.96079416594462, 67.27851441862397, 63.38672334723278, 98.95494199265302, 78.70496895191751, 90.61167049360766, 80.4510041735445, 43.62756985458397, 139.6724196930065, 67.81872134510684, 28.495938490232202, 89.72670877767705, 35.92099778729955, 61.352312990190335, 93.63921594496294, 50.684848995199545, 66.2888112879142, 54.18318377737497, 49.57408465575821, 50.53423221511062, 40.863649061104226, 51.99238400886694, 68.43840581435411, 78.05661377890901, 78.62573448889715, 75.03870073289073, 112.01905147082627, 68.16776548328501, 95.6357108549573, 59.793188828498906, 70.55170723167559, 71.5733412078579, 518.7620284798668, 37.93686527070537, 18.022274490826963, 17.730478561033056, 12.123895897356197, 361.0462022464539, 10.640229026224196, 8.595880748245275, 41.10387395287737, 8.356108988880717, 45.74890975772814, 8.351013750907649, 7.891675291224774, 35.52149797094265, 6.707494383474098, 6.552275575944577, 9.36809948638086, 7.7106757562007004, 6.364566065122767, 8.932220778209574, 6.254499375643204, 7.4283437200280416, 5.961594563788432, 5.939996235523829, 7.281559373220389, 11.205336909332171, 5.634649788472523, 5.4257754418027275, 5.332682430196067, 5.266215482580988, 18.9987385717493, 12.655881655232541, 35.96068727033228, 112.56720749955174, 16.96493241300081, 38.50224517243075, 24.57156329500916, 29.71529673419085, 25.401309977947502, 106.01236660428181, 35.92891593270472, 33.85416952394229, 44.32461121980445, 44.29358343850878, 30.288369757231386, 158.77100812278925, 135.82585199819886, 47.08409620044945, 39.3930227663429, 105.5014405696015, 238.8372627074409, 73.07954072176032, 113.2707002640935, 73.36707933806109, 113.01109262702138, 116.68916271297135, 130.09163684477386, 63.30122585053529, 100.22990935116212, 59.86941089133002, 83.75560800106264, 95.10023820991208, 67.43023166094434, 124.35009648305406, 56.45829874002804, 54.76112360946214, 54.47738512987701, 52.821758753209274, 61.45896993602074, 59.35618589358787, 50.334450845913096, 52.40127664468635], \"Total\": [519.0, 641.0, 593.0, 1330.0, 386.0, 595.0, 689.0, 235.0, 209.0, 212.0, 288.0, 329.0, 476.0, 211.0, 332.0, 290.0, 161.0, 142.0, 299.0, 330.0, 290.0, 393.0, 168.0, 345.0, 492.0, 229.0, 278.0, 186.0, 158.0, 249.0, 45.951245627814544, 56.484388709899974, 34.06944965152607, 32.86630099616145, 25.383392616138845, 24.096269868708244, 34.639234499719265, 18.614847189167016, 18.42976098914091, 18.54943942042263, 17.71810210103882, 17.43635173961168, 17.237442002471255, 16.335747684227403, 19.719365757051516, 17.264294575848655, 18.058901210465134, 14.815947851970247, 14.794565549686896, 14.812054820226422, 41.60014392024178, 14.30517070324958, 14.27011016666603, 19.068664587734453, 13.56403759508366, 13.137539200117285, 18.175577441786565, 13.071514047806359, 25.061771969037437, 13.029278585634591, 36.31184151645565, 18.66639133144734, 22.11150605649357, 45.173450171662736, 68.51729319330208, 33.514749076111165, 48.91645434496019, 31.414107502876405, 98.38218207205698, 144.2363821085714, 53.3920900431249, 51.88313970444028, 42.68551346337526, 103.25826520258619, 168.65056536529102, 138.36351630031012, 31.60976671052342, 91.7196246244619, 71.66147427803541, 59.590004607461495, 115.8572730767237, 46.93139952740928, 58.912954140305835, 69.57391808219835, 62.053321114176484, 232.64579729291842, 144.00233025187754, 317.2387827501954, 116.13357890021888, 304.31171463568137, 283.93608773566075, 77.35236369493957, 197.6569801024512, 205.8412639782972, 622.9966649817713, 126.62084932703185, 522.58130813119, 213.54202760535412, 689.0867188311013, 249.61181905793447, 330.05962431961456, 191.16388442350888, 106.90371871126756, 186.4721758504981, 153.8067300495419, 118.81305985465605, 331.55001034943155, 390.6489412030497, 408.64632805519705, 255.37040909792108, 234.71674837794436, 1330.831453563817, 492.376118348102, 290.90697393153926, 551.4736234472037, 98.80260803049768, 94.47938743215174, 66.38937280411582, 59.753232885707995, 73.22674002981556, 54.75006000628845, 46.868239204912925, 37.0640160263931, 36.6439713642816, 45.45564660628118, 35.206133503415806, 34.626511998828775, 33.18378315096818, 32.254642004708884, 31.924464565788703, 31.01262100090757, 29.75649282680874, 25.202141511950714, 22.83461346466555, 22.07943513110824, 20.923334647426103, 20.766933096708662, 31.322249652169212, 53.889159977359704, 19.59991008495163, 45.98568434157355, 18.79608356260077, 18.33827049462409, 19.791376350543064, 21.73719806982299, 45.24438659830795, 24.411103944313783, 99.88100130205056, 210.10590625153185, 26.27956641125214, 154.2001786390321, 60.270947137454385, 105.1355419413596, 58.389843882214706, 41.67299185906363, 104.10675896366098, 109.50408775726913, 551.4736234472037, 147.61648888870246, 80.61617807990797, 595.9952429922304, 128.59381380391332, 367.7256127508877, 354.12431917921174, 331.55001034943155, 345.5688648371345, 476.15390309578663, 227.42810068722122, 1330.831453563817, 522.58130813119, 242.7677218093869, 622.9966649817713, 393.89846673804493, 317.2387827501954, 157.62742870782571, 147.59870210031562, 193.1539030504208, 329.490130691973, 221.20660027082658, 492.376118348102, 390.6489412030497, 173.43303980031007, 689.0867188311013, 72.87825225343339, 83.645206854395, 35.03774253971703, 15.020862282834797, 14.84601196275252, 593.4125126347428, 13.363853365641038, 42.409736837644516, 12.818353022561906, 12.691520011170613, 10.205054229143864, 9.434859356324662, 9.345348152465728, 14.822531482730128, 8.527479929088368, 8.408232294749643, 209.31386246403207, 641.3072047031816, 7.79074631544605, 7.655344489972456, 7.458999013407054, 41.42061834148298, 7.430187891093023, 7.031631981622559, 7.000866895823757, 7.353552487590427, 33.21981881283877, 6.663540083156495, 6.636625708545262, 81.55990299165212, 161.05452903222252, 92.16795507376156, 87.19958505301821, 27.19894177199264, 18.58882799036504, 46.540586200005166, 104.92060839526985, 49.119554450766636, 1330.831453563817, 120.40812568396551, 595.9952429922304, 66.27173303282474, 101.79082702713767, 41.86467269982283, 299.5771928171828, 90.59385143510734, 476.15390309578663, 110.05809483314519, 278.6292691824401, 179.0278933293773, 130.17179437622582, 265.703836897307, 64.82809694911238, 118.4656967741875, 267.1061481903317, 316.5100307035859, 219.14335951903422, 147.59870210031562, 193.1539030504208, 492.376118348102, 393.89846673804493, 551.4736234472037, 408.64632805519705, 390.6489412030497, 622.9966649817713, 284.7775217408251, 20.928799068248985, 20.70518276742448, 20.204625096000388, 44.70840529659311, 12.106733942210534, 11.656323197871206, 13.004434185737512, 10.938114044695416, 10.80738878206428, 10.662647503049534, 10.609457227241402, 9.533205803140593, 9.636458599942577, 8.747683133294123, 8.451307822117464, 8.309470589042853, 8.208657340821487, 7.9804418479590895, 9.245230820829402, 7.918771202113991, 7.799325434345207, 7.826853527474519, 8.749658488634042, 7.608729352082667, 7.05499272970809, 7.1035053158599535, 6.893367943384073, 6.895380316473789, 6.868213617426191, 8.787003194752552, 212.21772510058895, 89.93711461088233, 21.017068625062713, 19.248887875588178, 235.21670246329586, 16.447741049822316, 211.6431398328135, 17.206501854743212, 288.9338281251371, 21.698330506898785, 30.799419046807454, 158.50878851374372, 23.680293670516736, 329.490130691973, 103.91868746526396, 120.41187130900357, 67.8734122800031, 111.56957058553522, 104.51903781789454, 186.51843496051023, 141.36307112837451, 174.76579712379242, 152.9757196175935, 71.01814522742417, 330.05962431961456, 130.4164118069103, 42.493096278880394, 208.6540917402502, 58.535220538170876, 129.18654555809312, 249.61181905793447, 101.46264051451146, 153.8067300495419, 112.74338483844555, 100.48734942252435, 105.84617555721476, 73.58688843679208, 114.77857764866533, 191.16388442350888, 284.7775217408251, 290.90697393153926, 264.19860124576576, 689.0867188311013, 213.54202760535412, 622.9966649817713, 186.4721758504981, 390.6489412030497, 1330.831453563817, 519.5431842459025, 38.71435245899886, 18.80551089866933, 18.630652894208442, 12.909080160583324, 386.375663789374, 11.442140811273413, 9.370559801267463, 44.863399286226965, 9.139169579579553, 50.0439431059051, 9.161131463582697, 8.672821921820775, 39.24866166357271, 7.48704765112528, 7.333803813684132, 10.498279790782664, 8.647318139428776, 7.154156444524591, 10.045530058553988, 7.046812885637359, 8.389250181674715, 6.74435132836496, 6.725490875011096, 8.283502902329872, 12.749293884480892, 6.415111351259601, 6.207537655378777, 6.1207430889918415, 6.045620088386406, 21.98696532027008, 14.695347057536454, 42.903736570696864, 142.2247363232575, 20.026433164541466, 47.80762306093197, 29.821818432995492, 39.97581551188488, 33.53952261460545, 168.04657281673119, 50.37805322979672, 47.228748339215336, 65.05912660817975, 68.257341330928, 43.82424310845957, 332.71444550240636, 290.34214766156106, 77.6135595339836, 63.024142528476126, 229.49256897236774, 689.0867188311013, 147.28675501328843, 290.90697393153926, 166.3254745368538, 345.5688648371345, 393.89846673804493, 492.376118348102, 173.1053283709689, 408.64632805519705, 162.4184931641604, 354.12431917921174, 522.58130813119, 242.7677218093869, 1330.831453563817, 175.57130611444654, 173.43303980031007, 172.07997542466939, 158.3788191566282, 316.5100307035859, 551.4736234472037, 211.27244259934037, 367.7256127508877], \"Category\": [\"Default\", \"Default\", \"Default\", \"Default\", \"Default\", \"Default\", \"Default\", \"Default\", \"Default\", \"Default\", \"Default\", \"Default\", \"Default\", \"Default\", \"Default\", \"Default\", \"Default\", \"Default\", \"Default\", \"Default\", \"Default\", \"Default\", \"Default\", \"Default\", \"Default\", \"Default\", \"Default\", \"Default\", \"Default\", \"Default\", \"Topic1\", \"Topic1\", \"Topic1\", \"Topic1\", \"Topic1\", \"Topic1\", \"Topic1\", \"Topic1\", \"Topic1\", \"Topic1\", \"Topic1\", \"Topic1\", \"Topic1\", \"Topic1\", \"Topic1\", \"Topic1\", \"Topic1\", \"Topic1\", \"Topic1\", \"Topic1\", \"Topic1\", \"Topic1\", \"Topic1\", \"Topic1\", \"Topic1\", \"Topic1\", \"Topic1\", \"Topic1\", \"Topic1\", \"Topic1\", \"Topic1\", \"Topic1\", \"Topic1\", \"Topic1\", \"Topic1\", \"Topic1\", \"Topic1\", \"Topic1\", \"Topic1\", \"Topic1\", \"Topic1\", \"Topic1\", \"Topic1\", \"Topic1\", \"Topic1\", \"Topic1\", \"Topic1\", \"Topic1\", \"Topic1\", \"Topic1\", \"Topic1\", \"Topic1\", \"Topic1\", \"Topic1\", \"Topic1\", \"Topic1\", \"Topic1\", \"Topic1\", \"Topic1\", \"Topic1\", \"Topic1\", \"Topic1\", \"Topic1\", \"Topic1\", \"Topic1\", \"Topic1\", \"Topic1\", \"Topic1\", \"Topic1\", \"Topic1\", \"Topic1\", \"Topic1\", \"Topic1\", \"Topic1\", \"Topic1\", \"Topic1\", \"Topic1\", \"Topic1\", \"Topic1\", \"Topic1\", \"Topic1\", \"Topic1\", \"Topic1\", \"Topic1\", \"Topic1\", \"Topic2\", \"Topic2\", \"Topic2\", \"Topic2\", \"Topic2\", \"Topic2\", \"Topic2\", \"Topic2\", \"Topic2\", \"Topic2\", \"Topic2\", \"Topic2\", \"Topic2\", \"Topic2\", \"Topic2\", \"Topic2\", \"Topic2\", \"Topic2\", \"Topic2\", \"Topic2\", \"Topic2\", \"Topic2\", \"Topic2\", \"Topic2\", \"Topic2\", \"Topic2\", \"Topic2\", \"Topic2\", \"Topic2\", \"Topic2\", \"Topic2\", \"Topic2\", \"Topic2\", \"Topic2\", \"Topic2\", \"Topic2\", \"Topic2\", \"Topic2\", \"Topic2\", \"Topic2\", \"Topic2\", \"Topic2\", \"Topic2\", \"Topic2\", \"Topic2\", \"Topic2\", \"Topic2\", \"Topic2\", \"Topic2\", \"Topic2\", \"Topic2\", \"Topic2\", \"Topic2\", \"Topic2\", \"Topic2\", \"Topic2\", \"Topic2\", \"Topic2\", \"Topic2\", \"Topic2\", \"Topic2\", \"Topic2\", \"Topic2\", \"Topic2\", \"Topic2\", \"Topic2\", \"Topic2\", \"Topic2\", \"Topic3\", \"Topic3\", \"Topic3\", \"Topic3\", \"Topic3\", \"Topic3\", \"Topic3\", \"Topic3\", \"Topic3\", \"Topic3\", \"Topic3\", \"Topic3\", \"Topic3\", \"Topic3\", \"Topic3\", \"Topic3\", \"Topic3\", \"Topic3\", \"Topic3\", \"Topic3\", \"Topic3\", \"Topic3\", \"Topic3\", \"Topic3\", \"Topic3\", \"Topic3\", \"Topic3\", \"Topic3\", \"Topic3\", \"Topic3\", \"Topic3\", \"Topic3\", \"Topic3\", \"Topic3\", \"Topic3\", \"Topic3\", \"Topic3\", \"Topic3\", \"Topic3\", \"Topic3\", \"Topic3\", \"Topic3\", \"Topic3\", \"Topic3\", \"Topic3\", \"Topic3\", \"Topic3\", \"Topic3\", \"Topic3\", \"Topic3\", \"Topic3\", \"Topic3\", \"Topic3\", \"Topic3\", \"Topic3\", \"Topic3\", \"Topic3\", \"Topic3\", \"Topic3\", \"Topic3\", \"Topic3\", \"Topic3\", \"Topic3\", \"Topic3\", \"Topic3\", \"Topic3\", \"Topic4\", \"Topic4\", \"Topic4\", \"Topic4\", \"Topic4\", \"Topic4\", \"Topic4\", \"Topic4\", \"Topic4\", \"Topic4\", \"Topic4\", \"Topic4\", \"Topic4\", \"Topic4\", \"Topic4\", \"Topic4\", \"Topic4\", \"Topic4\", \"Topic4\", \"Topic4\", \"Topic4\", \"Topic4\", \"Topic4\", \"Topic4\", \"Topic4\", \"Topic4\", \"Topic4\", \"Topic4\", \"Topic4\", \"Topic4\", \"Topic4\", \"Topic4\", \"Topic4\", \"Topic4\", \"Topic4\", \"Topic4\", \"Topic4\", \"Topic4\", \"Topic4\", \"Topic4\", \"Topic4\", \"Topic4\", \"Topic4\", \"Topic4\", \"Topic4\", \"Topic4\", \"Topic4\", \"Topic4\", \"Topic4\", \"Topic4\", \"Topic4\", \"Topic4\", \"Topic4\", \"Topic4\", \"Topic4\", \"Topic4\", \"Topic4\", \"Topic4\", \"Topic4\", \"Topic4\", \"Topic4\", \"Topic4\", \"Topic4\", \"Topic4\", \"Topic4\", \"Topic4\", \"Topic4\", \"Topic4\", \"Topic4\", \"Topic4\", \"Topic4\", \"Topic4\", \"Topic4\", \"Topic4\", \"Topic4\", \"Topic4\", \"Topic4\", \"Topic4\", \"Topic5\", \"Topic5\", \"Topic5\", \"Topic5\", \"Topic5\", \"Topic5\", \"Topic5\", \"Topic5\", \"Topic5\", \"Topic5\", \"Topic5\", \"Topic5\", \"Topic5\", \"Topic5\", \"Topic5\", \"Topic5\", \"Topic5\", \"Topic5\", \"Topic5\", \"Topic5\", \"Topic5\", \"Topic5\", \"Topic5\", \"Topic5\", \"Topic5\", \"Topic5\", \"Topic5\", \"Topic5\", \"Topic5\", \"Topic5\", \"Topic5\", \"Topic5\", \"Topic5\", \"Topic5\", \"Topic5\", \"Topic5\", \"Topic5\", \"Topic5\", \"Topic5\", \"Topic5\", \"Topic5\", \"Topic5\", \"Topic5\", \"Topic5\", \"Topic5\", \"Topic5\", \"Topic5\", \"Topic5\", \"Topic5\", \"Topic5\", \"Topic5\", \"Topic5\", \"Topic5\", \"Topic5\", \"Topic5\", \"Topic5\", \"Topic5\", \"Topic5\", \"Topic5\", \"Topic5\", \"Topic5\", \"Topic5\", \"Topic5\", \"Topic5\", \"Topic5\", \"Topic5\", \"Topic5\", \"Topic5\", \"Topic5\", \"Topic5\", \"Topic5\", \"Topic5\"], \"logprob\": [30.0, 29.0, 28.0, 27.0, 26.0, 25.0, 24.0, 23.0, 22.0, 21.0, 20.0, 19.0, 18.0, 17.0, 16.0, 15.0, 14.0, 13.0, 12.0, 11.0, 10.0, 9.0, 8.0, 7.0, 6.0, 5.0, 4.0, 3.0, 2.0, 1.0, -6.3744, -6.168, -6.6852, -6.7215, -6.9819, -7.0355, -6.6727, -7.3037, -7.3148, -7.3088, -7.3557, -7.3724, -7.3858, -7.4406, -7.2529, -7.3866, -7.3444, -7.5439, -7.5457, -7.5445, -6.5119, -7.5814, -7.5841, -7.2952, -7.6375, -7.6713, -7.3471, -7.6769, -7.0277, -7.6821, -6.6657, -7.3247, -7.159, -6.4682, -6.0721, -6.7628, -6.4068, -6.8343, -5.7724, -5.4254, -6.3488, -6.3845, -6.563, -5.7706, -5.3616, -5.5589, -6.8507, -5.9357, -6.1515, -6.3086, -5.755, -6.5208, -6.3457, -6.2104, -6.3034, -5.2344, -5.6424, -5.0407, -5.8228, -5.1084, -5.1801, -6.1425, -5.4704, -5.4445, -4.7148, -5.8034, -4.8457, -5.4629, -4.7017, -5.4137, -5.2461, -5.5857, -5.9452, -5.6258, -5.7733, -5.9343, -5.502, -5.4456, -5.4498, -5.6398, -5.679, -5.2522, -5.6272, -5.7105, -5.7451, -5.5741, -5.6193, -5.9758, -6.0825, -5.8797, -6.1712, -6.3291, -6.5685, -6.5803, -6.3648, -6.6211, -6.638, -6.6818, -6.7108, -6.7218, -6.7512, -6.7935, -6.9655, -7.0675, -7.1019, -7.1576, -7.1655, -6.7559, -6.214, -7.2263, -6.3749, -7.2696, -7.2955, -7.2215, -7.1278, -6.4031, -7.0194, -5.694, -4.9981, -6.9533, -5.3474, -6.201, -5.7154, -6.2503, -6.5585, -5.7856, -5.8319, -4.6308, -5.6314, -6.0748, -4.7136, -5.7757, -5.0731, -5.109, -5.1608, -5.1797, -5.0096, -5.4661, -4.5756, -5.1089, -5.5158, -5.0609, -5.3369, -5.4745, -5.7822, -5.8125, -5.7106, -5.5237, -5.6822, -5.4439, -5.6843, -5.8055, -5.7698, -5.1305, -5.0025, -5.8747, -6.7527, -6.7652, -3.0816, -6.8765, -5.7234, -6.9215, -6.9332, -7.1657, -7.251, -7.2614, -6.8033, -7.3619, -7.3774, -4.1665, -3.0486, -7.4627, -7.4815, -7.5114, -5.7994, -7.5181, -7.5766, -7.5816, -7.534, -6.0305, -7.6374, -7.642, -5.1367, -4.5361, -5.0838, -5.1649, -6.2841, -6.6516, -5.7918, -5.0453, -5.7793, -2.8147, -5.0072, -3.6011, -5.547, -5.1763, -5.9716, -4.3561, -5.355, -4.0446, -5.2053, -4.5526, -4.9109, -5.1498, -4.6732, -5.6743, -5.2746, -4.7928, -4.7088, -4.9821, -5.213, -5.0982, -4.7156, -4.8693, -4.7687, -4.9034, -4.919, -4.8073, -5.1222, -6.3282, -6.3395, -6.3698, -5.5955, -6.9044, -6.9445, -6.8356, -7.0127, -7.0266, -7.041, -7.0478, -7.1618, -7.1526, -7.2579, -7.2935, -7.3129, -7.3257, -7.3589, -7.2119, -7.3672, -7.3826, -7.3809, -7.271, -7.4138, -7.4945, -7.4895, -7.5204, -7.5208, -7.525, -7.2792, -4.1229, -4.9781, -6.4208, -6.5128, -4.1137, -6.6882, -4.3058, -6.6526, -4.1201, -6.4706, -6.1666, -4.7642, -6.4098, -4.1632, -5.1463, -5.0407, -5.5252, -5.1222, -5.1817, -4.7363, -4.9653, -4.8244, -4.9433, -5.5553, -4.3917, -5.1142, -5.9812, -4.8342, -5.7497, -5.2144, -4.7915, -5.4054, -5.137, -5.3386, -5.4275, -5.4083, -5.6208, -5.3799, -5.1051, -4.9736, -4.9663, -5.013, -4.6123, -5.109, -4.7704, -5.2401, -5.0747, -5.0603, -2.964, -5.5795, -6.3238, -6.3402, -6.7203, -3.3265, -6.8508, -7.0642, -5.4994, -7.0925, -5.3923, -7.0931, -7.1496, -5.6453, -7.3122, -7.3356, -6.9781, -7.1729, -7.3647, -7.0258, -7.3822, -7.2102, -7.4301, -7.4337, -7.2301, -6.7991, -7.4865, -7.5243, -7.5416, -7.5541, -6.2711, -6.6773, -5.633, -4.4919, -6.3843, -5.5647, -6.0139, -5.8238, -5.9807, -4.5519, -5.6339, -5.6934, -5.4239, -5.4246, -5.8047, -4.148, -4.3041, -5.3635, -5.5419, -4.5567, -3.7397, -4.9239, -4.4857, -4.92, -4.488, -4.4559, -4.3472, -5.0676, -4.608, -5.1233, -4.7876, -4.6605, -5.0044, -4.3924, -5.182, -5.2125, -5.2177, -5.2485, -5.0971, -5.1319, -5.2968, -5.2565], \"loglift\": [30.0, 29.0, 28.0, 27.0, 26.0, 25.0, 24.0, 23.0, 22.0, 21.0, 20.0, 19.0, 18.0, 17.0, 16.0, 15.0, 14.0, 13.0, 12.0, 11.0, 10.0, 9.0, 8.0, 7.0, 6.0, 5.0, 4.0, 3.0, 2.0, 1.0, 1.1578, 1.1578, 1.1462, 1.1458, 1.1438, 1.1423, 1.1421, 1.1321, 1.1311, 1.1306, 1.1295, 1.1289, 1.1269, 1.1258, 1.1253, 1.1245, 1.1217, 1.1202, 1.1198, 1.1198, 1.1198, 1.1177, 1.1176, 1.1165, 1.1149, 1.113, 1.1126, 1.1125, 1.1107, 1.1105, 1.102, 1.1083, 1.1047, 1.081, 1.0606, 1.085, 1.0628, 1.0782, 0.9985, 0.9629, 1.0333, 1.0264, 1.043, 0.952, 0.8703, 0.871, 1.0556, 0.9053, 0.9363, 0.9637, 0.8525, 0.9903, 0.938, 0.907, 0.9284, 0.6759, 0.7476, 0.5595, 0.7823, 0.5334, 0.531, 0.869, 0.6028, 0.5882, 0.2104, 0.7152, 0.2553, 0.533, 0.1227, 0.4262, 0.3144, 0.521, 0.7426, 0.5057, 0.5508, 0.648, 0.054, -0.0536, -0.1028, 0.1773, 0.2224, -1.0859, -0.4666, -0.0237, -0.6979, 1.1925, 1.1921, 1.1885, 1.1871, 1.1866, 1.1858, 1.1833, 1.1787, 1.1783, 1.1782, 1.1775, 1.1772, 1.1759, 1.1754, 1.1747, 1.1742, 1.1732, 1.1673, 1.164, 1.1632, 1.1614, 1.161, 1.1595, 1.1589, 1.158, 1.1566, 1.1566, 1.1553, 1.1531, 1.153, 1.1447, 1.1453, 1.0618, 1.0141, 1.1377, 0.9742, 1.06, 0.9891, 1.0424, 1.0714, 0.9288, 0.832, 0.4164, 0.7338, 0.8953, 0.2559, 0.7274, 0.3793, 0.3811, 0.3952, 0.3349, 0.1845, 0.4669, -0.4094, -0.0079, 0.3519, -0.1357, 0.0468, 0.1256, 0.5174, 0.5528, 0.3857, 0.0385, 0.2785, -0.2833, -0.2924, 0.3985, -0.9453, 1.9405, 1.9307, 1.9287, 1.8977, 1.8969, 1.8923, 1.8908, 1.889, 1.8874, 1.8856, 1.8712, 1.8644, 1.8635, 1.8603, 1.8546, 1.8532, 1.8495, 1.8477, 1.8441, 1.8429, 1.839, 1.8366, 1.8361, 1.8328, 1.8322, 1.8306, 1.8261, 1.8258, 1.8252, 1.8217, 1.7419, 1.7523, 1.7267, 1.7725, 1.7857, 1.7276, 1.6613, 1.6862, 1.3516, 1.5617, 1.3684, 1.619, 1.5606, 1.6538, 1.3013, 1.4984, 1.1495, 1.4535, 1.1773, 1.2613, 1.3411, 1.1042, 1.5138, 1.3106, 0.9794, 0.8936, 0.988, 1.1523, 0.9981, 0.4449, 0.5144, 0.2785, 0.4435, 0.473, 0.118, 0.5859, 1.9905, 1.9899, 1.9841, 1.9641, 1.9616, 1.9595, 1.9589, 1.9548, 1.953, 1.952, 1.9502, 1.9432, 1.9416, 1.9331, 1.932, 1.9295, 1.9289, 1.9239, 1.9238, 1.9234, 1.9232, 1.9213, 1.9198, 1.9167, 1.9115, 1.9097, 1.9088, 1.9081, 1.9079, 1.9073, 1.8793, 1.8826, 1.8937, 1.8895, 1.7855, 1.8714, 1.6991, 1.8619, 1.5735, 1.812, 1.7657, 1.5298, 1.7854, 1.3991, 1.5699, 1.5282, 1.6169, 1.523, 1.5287, 1.3949, 1.4432, 1.3719, 1.3862, 1.5416, 1.1688, 1.3749, 1.6292, 1.1849, 1.5405, 1.2842, 1.0483, 1.3347, 1.1871, 1.2961, 1.3222, 1.2895, 1.4406, 1.2369, 1.0016, 0.7345, 0.7205, 0.7701, 0.2121, 0.8869, 0.1548, 0.8914, 0.3173, -0.894, 2.1428, 2.1241, 2.1018, 2.0948, 2.0816, 2.0765, 2.0717, 2.058, 2.0568, 2.0548, 2.0546, 2.0518, 2.05, 2.0446, 2.0344, 2.0317, 2.0304, 2.0297, 2.0274, 2.0269, 2.0251, 2.0227, 2.021, 2.0201, 2.0154, 2.0153, 2.0146, 2.0097, 2.0065, 2.0063, 1.9983, 1.9949, 1.9678, 1.9105, 1.9784, 1.9279, 1.9507, 1.8477, 1.8664, 1.6837, 1.8063, 1.8114, 1.7606, 1.7119, 1.7749, 1.4045, 1.3847, 1.6445, 1.6744, 1.3672, 1.0848, 1.4435, 1.2011, 1.3259, 1.0266, 0.9278, 0.8133, 1.1383, 0.739, 1.1463, 0.7026, 0.4405, 0.8633, -0.2261, 1.0098, 0.9915, 0.9942, 1.0463, 0.5054, -0.0847, 0.7099, 0.1959]}, \"token.table\": {\"Topic\": [1, 3, 1, 1, 2, 4, 5, 4, 1, 2, 5, 1, 2, 3, 4, 5, 1, 2, 3, 4, 5, 5, 3, 1, 2, 3, 4, 3, 1, 2, 5, 1, 2, 3, 4, 5, 1, 2, 3, 5, 5, 5, 4, 1, 2, 3, 4, 1, 2, 3, 4, 5, 1, 2, 3, 4, 5, 1, 1, 2, 3, 4, 5, 1, 2, 3, 4, 5, 2, 2, 3, 4, 5, 2, 2, 1, 3, 4, 5, 1, 3, 4, 1, 2, 3, 4, 5, 1, 2, 3, 4, 5, 1, 2, 3, 4, 5, 1, 2, 3, 4, 5, 4, 1, 2, 3, 5, 1, 5, 1, 2, 4, 2, 5, 5, 1, 2, 3, 4, 1, 2, 3, 4, 5, 1, 2, 3, 4, 5, 4, 1, 4, 1, 2, 4, 5, 1, 2, 3, 4, 5, 1, 2, 4, 1, 2, 3, 4, 5, 5, 5, 2, 3, 5, 1, 2, 3, 4, 5, 4, 5, 1, 2, 1, 2, 3, 4, 5, 1, 2, 3, 2, 3, 4, 2, 3, 1, 2, 4, 5, 2, 3, 4, 3, 4, 1, 1, 2, 3, 4, 5, 1, 2, 3, 4, 5, 2, 4, 5, 1, 2, 4, 4, 1, 3, 1, 2, 1, 1, 2, 3, 4, 5, 2, 5, 1, 2, 1, 2, 3, 5, 5, 1, 2, 4, 5, 3, 1, 1, 1, 2, 3, 4, 5, 1, 4, 5, 1, 2, 3, 4, 5, 4, 1, 2, 1, 2, 3, 4, 5, 1, 2, 5, 1, 2, 3, 4, 5, 1, 1, 2, 3, 4, 5, 2, 1, 2, 5, 2, 3, 4, 1, 2, 3, 4, 2, 3, 4, 5, 4, 1, 2, 4, 1, 2, 5, 4, 2, 3, 1, 2, 3, 4, 5, 1, 2, 4, 5, 4, 1, 2, 3, 4, 5, 2, 5, 1, 2, 4, 5, 1, 2, 4, 5, 1, 4, 5, 1, 1, 2, 3, 4, 5, 1, 2, 3, 4, 5, 3, 1, 2, 3, 4, 4, 2, 3, 5, 2, 2, 1, 2, 3, 4, 5, 2, 1, 2, 3, 4, 5, 1, 1, 5, 4, 1, 2, 3, 5, 4, 1, 2, 4, 4, 5, 3, 1, 2, 3, 4, 5, 1, 2, 3, 4, 5, 3, 2, 5, 1, 2, 4, 5, 2, 1, 2, 3, 4, 5, 5, 1, 2, 3, 4, 5, 1, 3, 1, 5, 1, 1, 2, 3, 4, 5, 4, 1, 2, 3, 4, 1, 2, 3, 1, 2, 3, 1, 2, 3, 4, 5, 5, 1, 2, 3, 4, 5, 1, 2, 3, 4, 5, 2, 3, 1, 2, 3, 4, 5, 1, 2, 3, 4, 5, 1, 2, 3, 4, 5, 1, 2, 5, 1, 2, 3, 4, 1, 2, 4, 2, 2, 3, 4, 1, 2, 5, 1, 2, 3, 4, 5, 3, 1, 2, 3, 4, 5, 1, 2, 3, 4, 5, 1, 4, 1, 2, 3, 4, 5, 1, 2, 4, 1, 2, 1, 1, 2, 3, 4, 5, 2, 2, 3, 1, 5, 2, 5, 2, 3, 5, 1, 2, 4, 5, 1, 1, 2, 3, 4, 5, 1, 2, 3, 4, 1, 2, 3, 5, 1, 1, 2, 3, 4, 5, 3, 1, 2, 1, 2, 1, 2, 3, 1, 2, 3, 4, 5, 1, 4, 1, 2, 3, 1, 2, 4, 2, 4, 1, 2, 3, 4, 5, 1, 2, 3, 4, 5, 1, 2, 5, 1, 2, 3, 4, 5, 2, 2, 4, 1, 2, 3, 4, 5, 1, 2, 3, 4, 5, 1, 2, 3, 4, 5, 5, 1, 2, 3, 4, 5, 4, 1, 2, 3, 4, 1, 2, 3, 4, 5, 1, 2, 3, 4, 1, 2, 3, 4, 2, 1, 4, 1, 2, 3, 4, 5, 1, 2, 3, 4, 5, 1, 5, 3, 2, 1, 1, 1, 2, 3, 4, 2, 1, 2, 1, 2, 3, 4, 5, 5, 1, 5, 1, 5, 1, 4, 4, 1, 2, 5, 1, 2, 3, 4, 5, 1, 2, 4, 1, 4, 5, 1, 2, 3, 4, 5, 1, 2, 3, 4, 5, 1, 2, 4, 5, 1, 2, 2, 4, 1, 2, 3, 4, 5, 4, 1, 2, 3, 5, 2, 3, 4, 3, 1, 2, 3, 4, 1, 2, 2, 3, 4, 2, 3, 4, 4, 1, 2, 4, 2, 1, 1, 2, 4, 2, 1, 2, 4, 5, 1, 4, 1, 2, 5, 1, 2, 4, 1, 2, 3, 1, 2, 3, 4, 3, 1, 1, 2, 4, 5, 1, 5, 1, 2, 3, 4, 5, 1, 2, 3, 4, 5, 1, 2, 3, 4, 5, 1, 2, 5, 2, 3, 2, 4, 1, 2, 3, 4, 5, 1, 2, 3, 4, 5, 3, 2, 4, 1, 2, 2, 1, 2, 3, 4, 5, 4, 4, 2, 5, 4, 1, 2, 3, 5, 3, 1, 4, 1, 5, 5, 3, 1, 1, 4, 2, 2, 1, 2, 3, 5, 2, 4, 2, 5, 2, 3, 4, 2, 3, 2, 3, 5, 1, 2, 3, 4, 5, 3, 1, 2, 3, 4, 5, 3, 1, 2, 3, 4, 5, 2, 1, 2, 3, 4, 5], \"Freq\": [0.9353210402502067, 0.9519208589063491, 0.976681141475783, 0.2550871569790941, 0.198401122094851, 0.4818312965160667, 0.06613370736495033, 0.9425552868363023, 0.14821481081233115, 0.12704126641056956, 0.7199005096598942, 0.1977198601290496, 0.42839303027960746, 0.04531080127957386, 0.0494299650322624, 0.2759839714301317, 0.16721150729636322, 0.44974129548677005, 0.03459548426821308, 0.03459548426821308, 0.3171252724586199, 0.9251423240140513, 0.9143938602853372, 0.04977522575110985, 0.8627705796859041, 0.016591741917036617, 0.04977522575110985, 0.9004222868211249, 0.050957151536614835, 0.050957151536614835, 0.917228727659067, 0.22432148466881305, 0.1516539614662398, 0.3475403283601329, 0.08214589579421323, 0.19272690936334644, 0.018536852132018857, 0.03875887263967579, 0.9420091219816856, 0.8386733008322846, 0.9571662315897875, 0.8344011500921309, 0.8527582172530386, 0.06939678299948794, 0.18926395363496712, 0.13248476754447697, 0.6056446516318947, 0.2525169407569842, 0.1442953947182767, 0.10822154603870754, 0.05411077301935377, 0.4388984922680917, 0.19170484348706324, 0.16774173805118034, 0.15815649587682717, 0.43133589784589227, 0.04792621087176581, 0.9703797291136623, 0.30250220134189537, 0.024062675106741677, 0.013750100060995245, 0.27156447620465607, 0.3884403267231157, 0.14304858508608334, 0.05721943403443334, 0.18310218891018668, 0.5206968497133434, 0.09727303785853668, 0.971042127773714, 0.27746141378116435, 0.08610871462174065, 0.6027610023521845, 0.02870290487391355, 0.9832473761727468, 0.9918766513708834, 0.33704859983094976, 0.026609099986653926, 0.47896379975977066, 0.15078489992437225, 0.3241328122600026, 0.014733309648181937, 0.6629989341681872, 0.7250300112309135, 0.11220702554764138, 0.04315654828755438, 0.11220702554764138, 0.01726261931502175, 0.008305087337915167, 0.19101700877204886, 0.6810171617090437, 0.09135596071706684, 0.04152543668957584, 0.14611326688978224, 0.6940380177264656, 0.07305663344489112, 0.01826415836122278, 0.06392455426427973, 0.4727340253572384, 0.03605598498487412, 0.012018661661624705, 0.37658473206424076, 0.10416173440074744, 0.9252928900453544, 0.2930827973388496, 0.015425410386255244, 0.6478672362227202, 0.030850820772510487, 0.29663946432175936, 0.6845526099732908, 0.36805183745637027, 0.10734845259144132, 0.5214067697298579, 0.9576463064792515, 0.8054723591837648, 0.8450531233629597, 0.9594707098455699, 0.10759150609369456, 0.8607320487495564, 0.8653110079173025, 0.21572050834271558, 0.08498080631682735, 0.032684925506472055, 0.5229588081035529, 0.13727668712718263, 0.3482870783043277, 0.11754688892771059, 0.024670334713223212, 0.16253396987535293, 0.3468358821447263, 0.8504615426086, 0.10390210660099693, 0.8831679061084738, 0.0667132810070605, 0.04447552067137367, 0.8672726530917866, 0.022237760335686835, 0.1577917508751424, 0.10796277691457112, 0.09965794792114258, 0.606252516520284, 0.024914486980285644, 0.35604760705207794, 0.00962290829870481, 0.6351119477145174, 0.19758254797568828, 0.017433754233148968, 0.24988381067513518, 0.2208275536198869, 0.31380757619668137, 0.99895449644539, 0.934947969637661, 0.030102512167029666, 0.8729728528438603, 0.06020502433405933, 0.5247659823316163, 0.09509182230170228, 0.15848637050283712, 0.09861374164620977, 0.12326717705776222, 0.914321400131461, 0.875353053725483, 0.9526769421035401, 0.02886899824556182, 0.09318993670711012, 0.4400635900057978, 0.3831141842403416, 0.031063312235703373, 0.04659496835355506, 0.052354549171174485, 0.8281537777985781, 0.11422810728256251, 0.7976644455641733, 0.17509707341652583, 0.02594030717281864, 0.09657026283439081, 0.893274931218115, 0.8902861913693209, 0.058379422384873494, 0.043784566788655124, 0.014594855596218374, 0.2907555327803371, 0.6087693967588309, 0.09994721439324089, 0.951448499465868, 0.8975135168965654, 0.9545045820501921, 0.5891608219301057, 0.016833166340860163, 0.08416583170430081, 0.2693306614537626, 0.042082915852150404, 0.28794407472450684, 0.11939144561747843, 0.256340456766939, 0.27389802229892113, 0.06320723591513565, 0.1215972451135839, 0.8511807157950874, 0.8921281898237801, 0.8615508395128512, 0.07491746430546532, 0.05618809822909899, 0.9085852594520254, 0.89131929014492, 0.06366566358178, 0.9107277190401573, 0.053572218767068074, 0.9749745963990631, 0.19967076615110993, 0.41959798683928895, 0.03761912985455694, 0.014468896097906516, 0.3269970518126873, 0.33696009178691083, 0.6446193060271337, 0.03805237819950596, 0.951309454987649, 0.044579769518579455, 0.022289884759289728, 0.022289884759289728, 0.9138852751308788, 0.9815481232766218, 0.7617797223577802, 0.12935882077773625, 0.07186601154318681, 0.028746404617274724, 0.9455132237460948, 0.945176085959557, 0.9584166889003539, 0.32574271340295, 0.44638816281145005, 0.054290452233825004, 0.14779067552541253, 0.027145226116912502, 0.8994928309748451, 0.10221509442895967, 0.9661497158586166, 0.22462979757862345, 0.14975319838574896, 0.37812682592401614, 0.07113276923323075, 0.17221617814361131, 0.9440685731378069, 0.9497317797506086, 0.04522532284526708, 0.4104084141182949, 0.1831052924527777, 0.04419782921273945, 0.031569878009099606, 0.3346407068964558, 0.0703112570887202, 0.1406225141774404, 0.7945172051025382, 0.23460031405680445, 0.16757165289771747, 0.5027149586931524, 0.07261438292234423, 0.027928608816286244, 0.9462934178757475, 0.2401204397370054, 0.22164963668031268, 0.08619708093123271, 0.09235401528346361, 0.36941606113385445, 0.9941350130650476, 0.021745897974947515, 0.9568195108976907, 0.9613585588076496, 0.12071511689663461, 0.7242907013798077, 0.16598328573287258, 0.7941252919475374, 0.09684454779848017, 0.0581067286790881, 0.03873781911939207, 0.2456016984058391, 0.6778606876001159, 0.058944407617401384, 0.009824067936233563, 0.8735896019274445, 0.282398814180179, 0.04706646903002983, 0.6589305664204177, 0.025015124449498678, 0.2251361200454881, 0.7504537334849604, 0.8943568415363818, 0.9693922021911606, 0.9381435156136734, 0.27896983815452686, 0.154167542138028, 0.22023934591146857, 0.10033125758189124, 0.24471038434607617, 0.41415808226949186, 0.020368430275548778, 0.0678947675851626, 0.495631803371687, 0.919995925217652, 0.1859874649096603, 0.11710321864682316, 0.15843376640452544, 0.07232845857597901, 0.46841287458729264, 0.06804875013054923, 0.88463375169714, 0.8055042169604016, 0.033562675706683406, 0.11746936497339192, 0.033562675706683406, 0.28859354104427815, 0.009951501415319936, 0.49757507076599683, 0.20898152972171866, 0.7808129921722713, 0.1527677593380531, 0.050922586446017694, 0.9635198329442074, 0.24919200519787124, 0.01730500036096328, 0.02768800057754125, 0.6333630132112561, 0.07614200158823843, 0.19294193292461134, 0.2274683840795418, 0.2213754809345541, 0.09342451488981181, 0.26402580294946815, 0.9879490489099646, 0.1401975884914261, 0.25035283659183233, 0.5207339001110112, 0.0867889833518352, 0.965941726989537, 0.3311483011790165, 0.6402200489460985, 0.03311483011790165, 0.9745772181146568, 0.9949260103692353, 0.0033557314819475377, 0.38926485190591437, 0.558729291744265, 0.03859091204239668, 0.011745060186816382, 0.963069506068269, 0.867333786203937, 0.03854816827573053, 0.019274084137865265, 0.07709633655146106, 0.019274084137865265, 0.9087623118713923, 0.9449277319195113, 0.9544842182632036, 0.8446534116901181, 0.021486622358011662, 0.15040635650608164, 0.7950050272464315, 0.021486622358011662, 0.9378533799546486, 0.5331366187525566, 0.032508330411741254, 0.42910996143498453, 0.9403787454468111, 0.8732545790660877, 0.8819159406617911, 0.16860397494803095, 0.4405458700255002, 0.12781269068641055, 0.11965443383408648, 0.141409785440284, 0.2330406833625638, 0.4792723488022539, 0.07914589246275752, 0.035175952205670005, 0.17587976102835004, 0.9630459832173711, 0.09525370059940537, 0.8572833053946484, 0.271510995313084, 0.3408329515632331, 0.017330489062537275, 0.3639402703132828, 0.9819065807480127, 0.5244869183643166, 0.08897545936537513, 0.06556086479553958, 0.3184384861497636, 0.004682918913967112, 0.8168942769371421, 0.3588285659783912, 0.02278276609386611, 0.011391383046933054, 0.28478457617332636, 0.3189587253141255, 0.06746485923575939, 0.9445080293006315, 0.924965898733115, 0.059675219273104194, 0.9282119700652888, 0.7352480540543727, 0.10672955623369926, 0.06522361769837177, 0.0770824572798939, 0.01185883958152214, 0.9436938057799332, 0.509459384847663, 0.13406825917043763, 0.03217638220090503, 0.3217638220090503, 0.7735283001482106, 0.08057586459877193, 0.1289213833580351, 0.02027109613717319, 0.07640643928626817, 0.9012841205604695, 0.1891990930057907, 0.4405232613269157, 0.08471601179363764, 0.04800574001639466, 0.23720483302218537, 0.9352916374276037, 0.3041812805619572, 0.07781381595770998, 0.007073983268882726, 0.5588446782417353, 0.056591866151061807, 0.2271018836476963, 0.1854665383122853, 0.2006066638887984, 0.2838773545596203, 0.1059808790355916, 0.011955257660379097, 0.980331128151086, 0.07770596809023071, 0.361227743554586, 0.4494345181434965, 0.07350564549075878, 0.03990306469498334, 0.29182211437441374, 0.22526619355217906, 0.22782603666072654, 0.18174886070687174, 0.07423545014787719, 0.3834408947037758, 0.1363345403391203, 0.2471063543646555, 0.17467862980949786, 0.05964636139836512, 0.09222380183698366, 0.21518887095296185, 0.6763078801378801, 0.09449869254349046, 0.1464729734424102, 0.03779947701739618, 0.7181900633305275, 0.25345635178668635, 0.12672817589334318, 0.6195599710341222, 0.9863002888727008, 0.23886487950596874, 0.7404811264685031, 0.023886487950596873, 0.2381989622596701, 0.039699827043278346, 0.7145968867790102, 0.30740493238785177, 0.39781814779604346, 0.07233057232655336, 0.0904132154081917, 0.13561982311228754, 0.9361577090971436, 0.3804193719190046, 0.26324378478783445, 0.16051450291941124, 0.1540939228026348, 0.043338915788241034, 0.5538248152810582, 0.28662863247002135, 0.0971622482949225, 0.0194324496589845, 0.038864899317969, 0.11623513116634292, 0.8717634837475718, 0.5390261509566162, 0.34043756902523126, 0.05673959483753854, 0.02521759770557269, 0.03782639655835903, 0.3940919451283734, 0.04076813225465932, 0.5571644741470106, 0.9177323945176481, 0.039901408457289046, 0.9109950692859459, 0.7371885503300943, 0.02890935491490566, 0.007227338728726415, 0.08672806474471698, 0.1445467745745283, 0.9824262671237293, 0.9611019708566066, 0.9040738868661, 0.9736416642608298, 0.8896333698936449, 0.07992975276818279, 0.919192156834102, 0.1221509451192987, 0.7736226524222252, 0.10179245426608226, 0.08683120642436677, 0.7318630255768056, 0.11164012254561441, 0.06202229030311912, 0.9669700651894243, 0.3680927650625173, 0.23495282876330892, 0.20362578492820108, 0.12530817534043143, 0.07048584862899268, 0.36592194171076997, 0.1132615533866669, 0.06098699028512833, 0.4530462135466676, 0.1417278123313437, 0.1546121589069204, 0.0901904260290369, 0.6055642890521049, 0.9134130690086063, 0.561578953308229, 0.28837838142855005, 0.01011853969924737, 0.05565196834586054, 0.08094831759397896, 0.953909291076697, 0.0409649642343576, 0.9421941773902249, 0.1370101282705564, 0.8563133016909775, 0.023579490809581292, 0.023579490809581292, 0.9431796323832516, 0.33240682087605267, 0.04289120269368421, 0.01608420101013158, 0.5307786333343422, 0.0804210050506579, 0.9439570305084788, 0.8839755337458524, 0.012260926795147767, 0.1103483411563299, 0.8827867292506392, 0.046086494980895384, 0.13825948494268614, 0.7834704146752215, 0.9643264559202726, 0.9556210050457189, 0.05462986087685726, 0.312604203906461, 0.08801477585715892, 0.5341586396848266, 0.012139969083746057, 0.3980241864061912, 0.29851813980464337, 0.07271595713190031, 0.047839445481513365, 0.18178989282975078, 0.05963114093726129, 0.17889342281178386, 0.7453892617157661, 0.631807482142051, 0.22113261874971785, 0.04738556116065382, 0.086873528794532, 0.007897593526775637, 0.9712924787849374, 0.9503941424107653, 0.04420437871677978, 0.20479965957267696, 0.19172734087654864, 0.12200830783053096, 0.021787197826880527, 0.4618885939298672, 0.6527672144998112, 0.006944332069146928, 0.07638765276061621, 0.16666396965952626, 0.09722064896805699, 0.42113603045672376, 0.009089266844389722, 0.06665462352552462, 0.42416578607152033, 0.07877364598471091, 0.9604548917966095, 0.2966094895262125, 0.15971280205257596, 0.3833107249261823, 0.15971280205257596, 0.8514487467418147, 0.8704018194413248, 0.05733017325626031, 0.03344260106615185, 0.9029502287860999, 0.004777514438021693, 0.5178802486596952, 0.08369781796520326, 0.01569334086847561, 0.35571572635211385, 0.020924454491300815, 0.4730805324658874, 0.009855844426372653, 0.019711688852745306, 0.5026480657450053, 0.7631954479383116, 0.17444467381447123, 0.032708376340213355, 0.021805584226808904, 0.9511112886403783, 0.37584209639483257, 0.6150143395551805, 0.6716403708441383, 0.03444309594072504, 0.05166464391108756, 0.1722154797036252, 0.06888619188145008, 0.34833348786901513, 0.09288893009840404, 0.007740744174867003, 0.4721853946668872, 0.07740744174867004, 0.09096298515357974, 0.8641483589590075, 0.93846372514837, 0.9660858742025994, 0.9180267837461278, 0.9792988064889638, 0.019211048541988622, 0.7588364174085505, 0.0960552427099431, 0.12487181552292603, 0.9657408132222534, 0.8858021717280923, 0.0949073755422956, 0.18634598178139994, 0.20738504424059026, 0.09918415159332578, 0.02705022316181612, 0.47788727585875146, 0.8270450221648834, 0.18825449632853078, 0.8157694840903, 0.9374967566163491, 0.04807675674955637, 0.9848959269575698, 0.8701477981809602, 0.9145278673334196, 0.9076127646703254, 0.06641069009782868, 0.022136896699276227, 0.10161689915842406, 0.229578920320884, 0.42904912978001275, 0.10161689915842406, 0.13925278773561817, 0.8042353690810342, 0.062397571739045754, 0.12479514347809151, 0.09516074937372633, 0.8564467443635371, 0.047580374686863165, 0.6454405967519207, 0.16837580784832712, 0.08418790392416356, 0.07483369237703429, 0.028062634641387856, 0.7368876305421675, 0.11635067850665802, 0.038783559502219345, 0.09049497217184513, 0.025855706334812895, 0.08066715640085857, 0.26889052133619523, 0.6005221643175027, 0.04481508688936588, 0.9267682458559703, 0.9523000253220281, 0.04473431755689137, 0.9394206686947187, 0.028272850428285683, 0.04712141738047614, 0.061257842594618986, 0.8623219380627134, 0.004712141738047614, 0.9627568825562809, 0.06545804425298467, 0.21422632664613164, 0.08926096943588818, 0.6307775173469431, 0.3917899437769023, 0.5454330589835307, 0.06913940184298276, 0.9320370386458177, 0.833484257748437, 0.08131553734131093, 0.040657768670655466, 0.040657768670655466, 0.9363336746386718, 0.05507845144933363, 0.6300109201900789, 0.31161830461014656, 0.05419448775828636, 0.5216848041635682, 0.4471584035687728, 0.02710050930719835, 0.9104355401597513, 0.0700833983314932, 0.8710365221199868, 0.06007148428413702, 0.9634496346541167, 0.9794470574155858, 0.781451966543818, 0.15349949342824995, 0.05581799761027271, 0.9558705788066298, 0.19556434351075908, 0.004251398771973023, 0.7822573740430363, 0.01700559508789209, 0.1689168240755485, 0.8023549143588553, 0.3332056440198547, 0.03173387085903378, 0.6188104817511587, 0.9737203722337565, 0.9873942739274253, 0.9339530603134258, 0.06671711217713051, 0.1810893044807828, 0.74341924997374, 0.006209077174103734, 0.16764508370080083, 0.8133891098075892, 0.012418154348207469, 0.8985018529125631, 0.9210026419444726, 0.8310001489988144, 0.04261539225634946, 0.04261539225634946, 0.06392308838452418, 0.13984795916582202, 0.8390877549949322, 0.5257766701211297, 0.16101910522459598, 0.1511607926598248, 0.10186922983596888, 0.062435979576884154, 0.6060715544432143, 0.017193519274984803, 0.14184653401862463, 0.15044329365611703, 0.08166921655617781, 0.3407921975727884, 0.17986254871897167, 0.06626514952804219, 0.17512932375268292, 0.23666124831443638, 0.02588154725358512, 0.038822320880377674, 0.9343238558544228, 0.14706454514046166, 0.8456211345576545, 0.22727701419827892, 0.779235477251242, 0.15413248501111246, 0.4569574849741216, 0.18858562871947876, 0.09429281435973938, 0.10698607783124275, 0.13279294062883695, 0.20457290853631638, 0.4593917946078684, 0.1794499197686986, 0.02153399037224383, 0.9703821518027111, 0.9577856103296323, 0.03192618701098774, 0.09598542896866724, 0.8878652179601719, 0.9600140820665386, 0.10973640770272809, 0.11817766983370717, 0.5233582521207032, 0.17726650475056077, 0.06753009704783267, 0.8771444154799741, 0.9142343880433056, 0.09954676300515156, 0.895920867046364, 0.9465990552448734, 0.06706499150927556, 0.06706499150927556, 0.03353249575463778, 0.8383123938659445, 0.9727733195145257, 0.9413640288451492, 0.9227621770088916, 0.09986800862477964, 0.8488780733106269, 0.9295782387842694, 0.8570367197781169, 0.9686097174311659, 0.8668046135077301, 0.11713575858212569, 0.9673480999597572, 0.9814748917466924, 0.24741886814819158, 0.5075258833809059, 0.07612888250713587, 0.17128998564105571, 0.9649435994520347, 0.037113215363539794, 0.07843571644522622, 0.8627928808974884, 0.8084801621834945, 0.18071909507631054, 0.009511531319805817, 0.1735961266276905, 0.8245816014815298, 0.9679765504407095, 0.8532869774301657, 0.9224217990538974, 0.10444598346978773, 0.1998750475033348, 0.5485292657046406, 0.054101516617444, 0.0931748341744869, 0.9421026900801913, 0.13709116576965943, 0.3148019362118106, 0.23864017745088864, 0.01523235175218438, 0.2970308591675954, 0.943014193651797, 0.011467944479231067, 0.06880766687538639, 0.8027561135461746, 0.11467944479231067, 0.011467944479231067, 0.9815538496542924, 0.2566219868890439, 0.6221139076098035, 0.038882119225612716, 0.07776423845122543, 0.007776423845122543], \"Term\": [\"accountability\", \"active\", \"adapt\", \"advancement\", \"advancement\", \"advancement\", \"advancement\", \"advancing\", \"amazing\", \"amazing\", \"amazing\", \"amazon\", \"amazon\", \"amazon\", \"amazon\", \"amazon\", \"apple\", \"apple\", \"apple\", \"apple\", \"apple\", \"applicable\", \"arbeit\", \"associates\", \"associates\", \"associates\", \"associates\", \"auf\", \"awesome\", \"awesome\", \"awesome\", \"bad\", \"bad\", \"bad\", \"bad\", \"bad\", \"balance\", \"balance\", \"balance\", \"balanced\", \"bay\", \"beat\", \"beaucoup\", \"benefits\", \"benefits\", \"benefits\", \"benefits\", \"best\", \"best\", \"best\", \"best\", \"best\", \"better\", \"better\", \"better\", \"better\", \"better\", \"bias\", \"big\", \"big\", \"big\", \"big\", \"big\", \"bit\", \"bit\", \"bit\", \"bit\", \"bit\", \"body\", \"boring\", \"boring\", \"boring\", \"boring\", \"break\", \"breaks\", \"bureaucracy\", \"bureaucracy\", \"bureaucracy\", \"bureaucracy\", \"bureaucratic\", \"bureaucratic\", \"bureaucratic\", \"business\", \"business\", \"business\", \"business\", \"business\", \"busy\", \"busy\", \"busy\", \"busy\", \"busy\", \"care\", \"care\", \"care\", \"care\", \"care\", \"career\", \"career\", \"career\", \"career\", \"career\", \"carrier\", \"challenge\", \"challenge\", \"challenge\", \"challenge\", \"challenges\", \"challenges\", \"changes\", \"changes\", \"changes\", \"christmas\", \"citizens\", \"cliquey\", \"cloud\", \"cog\", \"cog\", \"communications\", \"companies\", \"companies\", \"companies\", \"companies\", \"companies\", \"company\", \"company\", \"company\", \"company\", \"company\", \"comparatively\", \"compare\", \"compare\", \"compared\", \"compared\", \"compared\", \"compared\", \"compensation\", \"compensation\", \"compensation\", \"compensation\", \"compensation\", \"competition\", \"competition\", \"competition\", \"competitive\", \"competitive\", \"competitive\", \"competitive\", \"competitive\", \"cons\", \"cooks\", \"corporation\", \"corporation\", \"corporation\", \"culture\", \"culture\", \"culture\", \"culture\", \"culture\", \"cumbersome\", \"cupertino\", \"curve\", \"curve\", \"customers\", \"customers\", \"customers\", \"customers\", \"customers\", \"day\", \"day\", \"day\", \"days\", \"days\", \"days\", \"deadlines\", \"deadlines\", \"decisions\", \"decisions\", \"decisions\", \"decisions\", \"demanding\", \"demanding\", \"demanding\", \"der\", \"des\", \"design\", \"development\", \"development\", \"development\", \"development\", \"development\", \"difficult\", \"difficult\", \"difficult\", \"difficult\", \"difficult\", \"difficulty\", \"difficulty\", \"diluted\", \"direction\", \"direction\", \"direction\", \"distance\", \"diversity\", \"diversity\", \"division\", \"division\", \"divisions\", \"don\", \"don\", \"don\", \"don\", \"don\", \"dont\", \"dont\", \"door\", \"door\", \"downside\", \"downside\", \"downside\", \"downside\", \"downsides\", \"driven\", \"driven\", \"driven\", \"driven\", \"duty\", \"edge\", \"effective\", \"employees\", \"employees\", \"employees\", \"employees\", \"employees\", \"engineering\", \"engineering\", \"enjoyed\", \"environment\", \"environment\", \"environment\", \"environment\", \"environment\", \"est\", \"evaluation\", \"evaluation\", \"experience\", \"experience\", \"experience\", \"experience\", \"experience\", \"far\", \"far\", \"far\", \"fast\", \"fast\", \"fast\", \"fast\", \"fast\", \"features\", \"feel\", \"feel\", \"feel\", \"feel\", \"feel\", \"feet\", \"fired\", \"fired\", \"fish\", \"flexible\", \"flexible\", \"flexible\", \"focus\", \"focus\", \"focus\", \"focus\", \"food\", \"food\", \"food\", \"food\", \"francisco\", \"frequent\", \"frequent\", \"frequent\", \"friendly\", \"friendly\", \"friendly\", \"ftes\", \"fulfillment\", \"fur\", \"good\", \"good\", \"good\", \"good\", \"good\", \"google\", \"google\", \"google\", \"google\", \"graveyard\", \"great\", \"great\", \"great\", \"great\", \"great\", \"greatest\", \"greatest\", \"groups\", \"groups\", \"groups\", \"groups\", \"grow\", \"grow\", \"grow\", \"grow\", \"growing\", \"growing\", \"growing\", \"grown\", \"growth\", \"growth\", \"growth\", \"growth\", \"growth\", \"hard\", \"hard\", \"hard\", \"hard\", \"hard\", \"hectic\", \"high\", \"high\", \"high\", \"high\", \"hike\", \"holidays\", \"holidays\", \"holidays\", \"hot\", \"hour\", \"hours\", \"hours\", \"hours\", \"hours\", \"hours\", \"hrs\", \"individual\", \"individual\", \"individual\", \"individual\", \"individual\", \"influence\", \"innovate\", \"inspiring\", \"insufficient\", \"intense\", \"intense\", \"intense\", \"intense\", \"inter\", \"internal\", \"internal\", \"internal\", \"interns\", \"intimidating\", \"ist\", \"job\", \"job\", \"job\", \"job\", \"job\", \"just\", \"just\", \"just\", \"just\", \"just\", \"keine\", \"kitchen\", \"kitchen\", \"know\", \"know\", \"know\", \"know\", \"labor\", \"lack\", \"lack\", \"lack\", \"lack\", \"lack\", \"landscape\", \"large\", \"large\", \"large\", \"large\", \"large\", \"launches\", \"launches\", \"layers\", \"layers\", \"layoffs\", \"leadership\", \"leadership\", \"leadership\", \"leadership\", \"leadership\", \"les\", \"level\", \"level\", \"level\", \"level\", \"levels\", \"levels\", \"levels\", \"life\", \"life\", \"life\", \"like\", \"like\", \"like\", \"like\", \"like\", \"limitations\", \"limited\", \"limited\", \"limited\", \"limited\", \"limited\", \"little\", \"little\", \"little\", \"little\", \"little\", \"load\", \"load\", \"long\", \"long\", \"long\", \"long\", \"long\", \"lot\", \"lot\", \"lot\", \"lot\", \"lot\", \"lots\", \"lots\", \"lots\", \"lots\", \"lots\", \"love\", \"love\", \"love\", \"low\", \"low\", \"low\", \"low\", \"lower\", \"lower\", \"lower\", \"lunch\", \"maintain\", \"maintain\", \"maintain\", \"major\", \"major\", \"major\", \"make\", \"make\", \"make\", \"make\", \"make\", \"manageable\", \"management\", \"management\", \"management\", \"management\", \"management\", \"manager\", \"manager\", \"manager\", \"manager\", \"manager\", \"managerial\", \"managerial\", \"managers\", \"managers\", \"managers\", \"managers\", \"managers\", \"market\", \"market\", \"market\", \"marketing\", \"marketing\", \"mgmt\", \"microsoft\", \"microsoft\", \"microsoft\", \"microsoft\", \"microsoft\", \"minute\", \"minutes\", \"mitarbeiter\", \"model\", \"mold\", \"moment\", \"moment\", \"monotonous\", \"monotonous\", \"monotonous\", \"months\", \"months\", \"months\", \"months\", \"mountain\", \"need\", \"need\", \"need\", \"need\", \"need\", \"needs\", \"needs\", \"needs\", \"needs\", \"negative\", \"negative\", \"negative\", \"negative\", \"networking\", \"new\", \"new\", \"new\", \"new\", \"new\", \"nicht\", \"notice\", \"notice\", \"numbers\", \"numbers\", \"oncall\", \"oncall\", \"oncall\", \"opportunities\", \"opportunities\", \"opportunities\", \"opportunities\", \"opportunities\", \"organizational\", \"outsourcing\", \"paced\", \"paced\", \"paced\", \"par\", \"par\", \"par\", \"parking\", \"pas\", \"pay\", \"pay\", \"pay\", \"pay\", \"pay\", \"people\", \"people\", \"people\", \"people\", \"people\", \"perfect\", \"perfect\", \"perfect\", \"performance\", \"performance\", \"performance\", \"performance\", \"performance\", \"physical\", \"physically\", \"physically\", \"place\", \"place\", \"place\", \"place\", \"place\", \"political\", \"political\", \"political\", \"political\", \"political\", \"politics\", \"politics\", \"politics\", \"politics\", \"politics\", \"pond\", \"poor\", \"poor\", \"poor\", \"poor\", \"pour\", \"pression\", \"pressure\", \"pressure\", \"pressure\", \"pressure\", \"process\", \"process\", \"process\", \"process\", \"process\", \"processes\", \"processes\", \"processes\", \"processes\", \"product\", \"product\", \"product\", \"product\", \"production\", \"progression\", \"progression\", \"projects\", \"projects\", \"projects\", \"projects\", \"projects\", \"promotion\", \"promotion\", \"promotion\", \"promotion\", \"promotion\", \"pros\", \"pros\", \"pushy\", \"quit\", \"rank\", \"ranking\", \"rate\", \"rate\", \"rate\", \"rate\", \"rates\", \"rating\", \"rating\", \"really\", \"really\", \"really\", \"really\", \"really\", \"recognised\", \"red\", \"red\", \"redmond\", \"redmond\", \"remote\", \"remuneration\", \"reorganization\", \"results\", \"results\", \"results\", \"retail\", \"retail\", \"retail\", \"retail\", \"retail\", \"review\", \"review\", \"review\", \"rigid\", \"rigid\", \"rigid\", \"role\", \"role\", \"role\", \"role\", \"role\", \"roles\", \"roles\", \"roles\", \"roles\", \"roles\", \"room\", \"room\", \"room\", \"room\", \"rotational\", \"safety\", \"salaries\", \"salaries\", \"salary\", \"salary\", \"salary\", \"salary\", \"salary\", \"san\", \"say\", \"say\", \"say\", \"say\", \"schedule\", \"schedule\", \"schedule\", \"sehr\", \"senior\", \"senior\", \"senior\", \"senior\", \"share\", \"share\", \"shift\", \"shift\", \"shift\", \"shifts\", \"shifts\", \"shifts\", \"shine\", \"short\", \"short\", \"short\", \"sick\", \"silos\", \"skills\", \"skills\", \"skills\", \"slave\", \"slow\", \"slow\", \"slow\", \"slow\", \"slower\", \"slower\", \"smart\", \"smart\", \"smart\", \"stack\", \"standing\", \"starter\", \"stress\", \"stress\", \"stress\", \"stressful\", \"stressful\", \"stressful\", \"stressful\", \"stretched\", \"subjective\", \"talent\", \"talent\", \"talent\", \"talent\", \"tape\", \"tape\", \"team\", \"team\", \"team\", \"team\", \"team\", \"teams\", \"teams\", \"teams\", \"teams\", \"teams\", \"things\", \"things\", \"things\", \"things\", \"things\", \"think\", \"think\", \"think\", \"tight\", \"tight\", \"till\", \"till\", \"time\", \"time\", \"time\", \"time\", \"time\", \"times\", \"times\", \"times\", \"times\", \"times\", \"timings\", \"tiring\", \"tiring\", \"told\", \"told\", \"took\", \"tough\", \"tough\", \"tough\", \"tough\", \"tough\", \"transformation\", \"travail\", \"traveling\", \"traveling\", \"tres\", \"typical\", \"typical\", \"typical\", \"typical\", \"und\", \"unnecessary\", \"unstable\", \"usual\", \"usual\", \"vertical\", \"viel\", \"view\", \"vision\", \"vision\", \"walk\", \"walking\", \"want\", \"want\", \"want\", \"want\", \"warehouse\", \"warehouse\", \"weather\", \"weather\", \"week\", \"week\", \"week\", \"weekends\", \"weekends\", \"weeks\", \"wird\", \"wlb\", \"work\", \"work\", \"work\", \"work\", \"work\", \"workaholic\", \"working\", \"working\", \"working\", \"working\", \"working\", \"worklife\", \"workload\", \"workload\", \"workload\", \"workload\", \"workload\", \"written\", \"year\", \"year\", \"year\", \"year\", \"year\"]}, \"R\": 30, \"lambda.step\": 0.01, \"plot.opts\": {\"xlab\": \"PC1\", \"ylab\": \"PC2\"}, \"topic.order\": [1, 4, 5, 3, 2]};\n",
       "\n",
       "function LDAvis_load_lib(url, callback){\n",
       "  var s = document.createElement('script');\n",
       "  s.src = url;\n",
       "  s.async = true;\n",
       "  s.onreadystatechange = s.onload = callback;\n",
       "  s.onerror = function(){console.warn(\"failed to load library \" + url);};\n",
       "  document.getElementsByTagName(\"head\")[0].appendChild(s);\n",
       "}\n",
       "\n",
       "if(typeof(LDAvis) !== \"undefined\"){\n",
       "   // already loaded: just create the visualization\n",
       "   !function(LDAvis){\n",
       "       new LDAvis(\"#\" + \"ldavis_el1260749717873128594926585\", ldavis_el1260749717873128594926585_data);\n",
       "   }(LDAvis);\n",
       "}else if(typeof define === \"function\" && define.amd){\n",
       "   // require.js is available: use it to load d3/LDAvis\n",
       "   require.config({paths: {d3: \"https://d3js.org/d3.v5\"}});\n",
       "   require([\"d3\"], function(d3){\n",
       "      window.d3 = d3;\n",
       "      LDAvis_load_lib(\"https://cdn.jsdelivr.net/gh/bmabey/pyLDAvis@3.3.1/pyLDAvis/js/ldavis.v3.0.0.js\", function(){\n",
       "        new LDAvis(\"#\" + \"ldavis_el1260749717873128594926585\", ldavis_el1260749717873128594926585_data);\n",
       "      });\n",
       "    });\n",
       "}else{\n",
       "    // require.js not available: dynamically load d3 & LDAvis\n",
       "    LDAvis_load_lib(\"https://d3js.org/d3.v5.js\", function(){\n",
       "         LDAvis_load_lib(\"https://cdn.jsdelivr.net/gh/bmabey/pyLDAvis@3.3.1/pyLDAvis/js/ldavis.v3.0.0.js\", function(){\n",
       "                 new LDAvis(\"#\" + \"ldavis_el1260749717873128594926585\", ldavis_el1260749717873128594926585_data);\n",
       "            })\n",
       "         });\n",
       "}\n",
       "</script>"
      ],
      "text/plain": [
       "PreparedData(topic_coordinates=              x         y  topics  cluster       Freq\n",
       "topic                                                \n",
       "0     -0.080590  0.046130       1        1  30.833007\n",
       "3      0.047117 -0.034585       2        1  30.097380\n",
       "4      0.227847 -0.007853       3        1  14.205726\n",
       "2     -0.078274  0.177330       4        1  13.149334\n",
       "1     -0.116100 -0.181023       5        1  11.714553, topic_info=            Term         Freq        Total Category  logprob  loglift\n",
       "676         cons   519.000000   519.000000  Default  30.0000  30.0000\n",
       "1980        life   641.000000   641.000000  Default  29.0000  29.0000\n",
       "278      balance   593.000000   593.000000  Default  28.0000  28.0000\n",
       "3900        work  1330.000000  1330.000000  Default  27.0000  27.0000\n",
       "3537       think   386.000000   386.000000  Default  26.0000  26.0000\n",
       "...          ...          ...          ...      ...      ...      ...\n",
       "1251  experience    52.821759   158.378819   Topic5  -5.2485   1.0463\n",
       "271          bad    61.458970   316.510031   Topic5  -5.0971   0.5054\n",
       "3559        time    59.356186   551.473623   Topic5  -5.1319  -0.0847\n",
       "3536      things    50.334451   211.272443   Topic5  -5.2968   0.7099\n",
       "1864         job    52.401277   367.725613   Topic5  -5.2565   0.1959\n",
       "\n",
       "[399 rows x 6 columns], token_table=      Topic      Freq            Term\n",
       "term                                 \n",
       "25        1  0.935321  accountability\n",
       "44        3  0.951921          active\n",
       "51        1  0.976681           adapt\n",
       "76        1  0.255087     advancement\n",
       "76        2  0.198401     advancement\n",
       "...     ...       ...             ...\n",
       "3931      1  0.256622            year\n",
       "3931      2  0.622114            year\n",
       "3931      3  0.038882            year\n",
       "3931      4  0.077764            year\n",
       "3931      5  0.007776            year\n",
       "\n",
       "[853 rows x 3 columns], R=30, lambda_step=0.01, plot_opts={'xlab': 'PC1', 'ylab': 'PC2'}, topic_order=[1, 4, 5, 3, 2])"
      ]
     },
     "execution_count": 13,
     "metadata": {},
     "output_type": "execute_result"
    }
   ],
   "source": [
    "#Transform text to vector form using the vectorizer object \n",
    "tvec = TfidfVectorizer(strip_accents = 'unicode',\n",
    "                        stop_words = 'english',\n",
    "                        lowercase = True,\n",
    "                        token_pattern = r'\\b[a-zA-Z]{3,}\\b', # num chars > 3 to avoid some meaningless words\n",
    "                        max_df = 0.9,                        # discard words that appear in > 90% of the reviews\n",
    "                        min_df = 10)                         # discard words that appear in < 10 reviews    \n",
    "#convert to document-term matrix\n",
    "dtm_tfidf = tvec.fit_transform(testset['negatives'].tolist())\n",
    "\n",
    "\n",
    "# Initiate the Model\n",
    "best_lda_model = LatentDirichletAllocation(n_components=5, learning_decay=.7, batch_size = 64)\n",
    "\n",
    "\n",
    "# fit GridSearch\n",
    "best_lda_model.fit(dtm_tfidf)\n",
    "\n",
    "pyLDAvis.sklearn.prepare(best_lda_model, dtm_tfidf, tvec)"
   ]
  },
  {
   "cell_type": "code",
   "execution_count": null,
   "id": "920a3f3e",
   "metadata": {},
   "outputs": [],
   "source": []
  }
 ],
 "metadata": {
  "kernelspec": {
   "display_name": "Python 3",
   "language": "python",
   "name": "python3"
  },
  "language_info": {
   "codemirror_mode": {
    "name": "ipython",
    "version": 3
   },
   "file_extension": ".py",
   "mimetype": "text/x-python",
   "name": "python",
   "nbconvert_exporter": "python",
   "pygments_lexer": "ipython3",
   "version": "3.8.8"
  }
 },
 "nbformat": 4,
 "nbformat_minor": 5
}
